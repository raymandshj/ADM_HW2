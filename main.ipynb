{
  "cells": [
    {
      "cell_type": "markdown",
      "metadata": {
        "id": "BA0A8CjC-AFz"
      },
      "source": [
        "### Before run the script you have to set the directory which cointain the files instagram_locations.csv, instagram_profiles.csv,instagram_posts.csv."
      ]
    },
    {
      "cell_type": "code",
      "execution_count": null,
      "metadata": {
        "id": "2Ldsyeqd-AF6"
      },
      "outputs": [],
      "source": [
        "import pandas as pd\n",
        "import scipy\n",
        "import numpy as np\n",
        "import tqdm\n",
        "import matplotlib.pyplot as plt\n",
        "import seaborn as sns\n",
        "import random\n",
        "from datetime import datetime\n",
        "from numpy import histogram as hist\n",
        "from PIL import Image"
      ]
    },
    {
      "cell_type": "markdown",
      "metadata": {
        "id": "gf5zXjeJ-AF8"
      },
      "source": [
        "# RQ1"
      ]
    },
    {
      "cell_type": "code",
      "execution_count": null,
      "metadata": {
        "id": "FBkBvbDK-AF8"
      },
      "outputs": [],
      "source": [
        "cols_profiles = ['profile_id','followers', 'n_posts', 'profile_name']\n",
        "cols_posts = ['numbr_likes', 'number_comments', 'cts']"
      ]
    },
    {
      "cell_type": "code",
      "execution_count": null,
      "metadata": {
        "id": "wNKzargN-AF9"
      },
      "outputs": [],
      "source": [
        "df_profiles = pd.read_csv('instagram_profiles.csv', sep='\\t', usecols = None)        \n",
        "df_posts = pd.read_csv('instagram_posts.csv', sep='\\t',usecols=cols_posts)"
      ]
    },
    {
      "cell_type": "markdown",
      "metadata": {
        "id": "8mFCjipJ-AF-"
      },
      "source": [
        "We concentrate the attention on these two dataset"
      ]
    },
    {
      "cell_type": "markdown",
      "metadata": {
        "id": "PpVBdv---AF-"
      },
      "source": [
        "We print how many rows and columns our datasets have"
      ]
    },
    {
      "cell_type": "code",
      "execution_count": null,
      "metadata": {
        "id": "tLUMBD1s-AF_",
        "outputId": "a2a17033-3196-4801-a739-8ddf054ffc57"
      },
      "outputs": [
        {
          "name": "stdout",
          "output_type": "stream",
          "text": [
            "(4509586, 11)\n",
            "(42710197, 3)\n"
          ]
        }
      ],
      "source": [
        "print(df_profiles.shape)\n",
        "print(df_posts.shape)"
      ]
    },
    {
      "cell_type": "code",
      "execution_count": null,
      "metadata": {
        "id": "kULlm4Zk-AGA",
        "outputId": "ec06b1bb-61c3-4081-803a-7ef5ed092118"
      },
      "outputs": [
        {
          "data": {
            "text/plain": [
              "sid                          0\n",
              "profile_id               32447\n",
              "profile_name                 0\n",
              "firstname_lastname      288465\n",
              "description            2055996\n",
              "following              1056815\n",
              "followers              1056815\n",
              "n_posts                1056815\n",
              "url                    3639312\n",
              "cts                     438488\n",
              "is_business_account    1064263\n",
              "dtype: int64"
            ]
          },
          "execution_count": 7,
          "metadata": {},
          "output_type": "execute_result"
        }
      ],
      "source": [
        "# check if there are NAs\n",
        "df_profiles.isna().sum()"
      ]
    },
    {
      "cell_type": "code",
      "execution_count": null,
      "metadata": {
        "id": "N_v1YwSx-AGB",
        "outputId": "7c822a6a-91c8-4ec2-830c-37f2d5a535b6"
      },
      "outputs": [
        {
          "data": {
            "text/html": [
              "<div>\n",
              "<style scoped>\n",
              "    .dataframe tbody tr th:only-of-type {\n",
              "        vertical-align: middle;\n",
              "    }\n",
              "\n",
              "    .dataframe tbody tr th {\n",
              "        vertical-align: top;\n",
              "    }\n",
              "\n",
              "    .dataframe thead th {\n",
              "        text-align: right;\n",
              "    }\n",
              "</style>\n",
              "<table border=\"1\" class=\"dataframe\">\n",
              "  <thead>\n",
              "    <tr style=\"text-align: right;\">\n",
              "      <th></th>\n",
              "      <th>following</th>\n",
              "      <th>followers</th>\n",
              "      <th>n_posts</th>\n",
              "    </tr>\n",
              "  </thead>\n",
              "  <tbody>\n",
              "    <tr>\n",
              "      <th>count</th>\n",
              "      <td>3452771.0</td>\n",
              "      <td>3452771.0</td>\n",
              "      <td>3452771.0</td>\n",
              "    </tr>\n",
              "    <tr>\n",
              "      <th>mean</th>\n",
              "      <td>1406.0</td>\n",
              "      <td>4740.0</td>\n",
              "      <td>410.0</td>\n",
              "    </tr>\n",
              "    <tr>\n",
              "      <th>std</th>\n",
              "      <td>8113.0</td>\n",
              "      <td>193909.0</td>\n",
              "      <td>1042.0</td>\n",
              "    </tr>\n",
              "    <tr>\n",
              "      <th>min</th>\n",
              "      <td>0.0</td>\n",
              "      <td>0.0</td>\n",
              "      <td>0.0</td>\n",
              "    </tr>\n",
              "    <tr>\n",
              "      <th>25%</th>\n",
              "      <td>356.0</td>\n",
              "      <td>159.0</td>\n",
              "      <td>22.0</td>\n",
              "    </tr>\n",
              "    <tr>\n",
              "      <th>50%</th>\n",
              "      <td>754.0</td>\n",
              "      <td>406.0</td>\n",
              "      <td>120.0</td>\n",
              "    </tr>\n",
              "    <tr>\n",
              "      <th>75%</th>\n",
              "      <td>1573.0</td>\n",
              "      <td>974.0</td>\n",
              "      <td>420.0</td>\n",
              "    </tr>\n",
              "    <tr>\n",
              "      <th>max</th>\n",
              "      <td>4191080.0</td>\n",
              "      <td>285457645.0</td>\n",
              "      <td>183730.0</td>\n",
              "    </tr>\n",
              "  </tbody>\n",
              "</table>\n",
              "</div>"
            ],
            "text/plain": [
              "       following    followers    n_posts\n",
              "count  3452771.0    3452771.0  3452771.0\n",
              "mean      1406.0       4740.0      410.0\n",
              "std       8113.0     193909.0     1042.0\n",
              "min          0.0          0.0        0.0\n",
              "25%        356.0        159.0       22.0\n",
              "50%        754.0        406.0      120.0\n",
              "75%       1573.0        974.0      420.0\n",
              "max    4191080.0  285457645.0   183730.0"
            ]
          },
          "execution_count": 8,
          "metadata": {},
          "output_type": "execute_result"
        }
      ],
      "source": [
        "df_profiles.describe().apply(lambda x: round(x,0))[['following'\t,'followers',\t'n_posts']]"
      ]
    },
    {
      "cell_type": "markdown",
      "metadata": {
        "id": "Eb9iADVE-AGC"
      },
      "source": [
        "We can describe the quantiles of these variables, for example the 25% of profiles show number of followers minor of 159.\n",
        "We can say also that the followers have a positive asymmetric distribution bevause the mean is much greater than the median, it means that there are profiles that have a very high number of followers (top profiles)."
      ]
    },
    {
      "cell_type": "code",
      "execution_count": null,
      "metadata": {
        "id": "dzF24yUB-AGC",
        "outputId": "f48908ba-c3fd-429b-b8ae-dd3eadef0e76"
      },
      "outputs": [
        {
          "data": {
            "text/plain": [
              "<AxesSubplot: >"
            ]
          },
          "execution_count": 9,
          "metadata": {},
          "output_type": "execute_result"
        },
        {
          "data": {
            "image/png": "[encoded data removed]",
            "text/plain": [
              "<Figure size 640x480 with 1 Axes>"
            ]
          },
          "metadata": {},
          "output_type": "display_data"
        }
      ],
      "source": [
        "df_profiles[['followers']].boxplot()"
      ]
    },
    {
      "cell_type": "markdown",
      "metadata": {
        "id": "LQPdJYW7-AGD"
      },
      "source": [
        "It is evident we have strong outliers for the followers parameter. To have a better look we visialize the plot in a smaller range"
      ]
    },
    {
      "cell_type": "code",
      "execution_count": null,
      "metadata": {
        "id": "2n_NK1Bc-AGD",
        "outputId": "f5321681-864e-4d21-92f3-9663b9a73075"
      },
      "outputs": [
        {
          "data": {
            "image/png": "[encoded data removed]",
            "text/plain": [
              "<Figure size 640x480 with 1 Axes>"
            ]
          },
          "metadata": {},
          "output_type": "display_data"
        }
      ],
      "source": [
        "df_profiles[['followers']].boxplot()\n",
        "plt.ylim(0,.5e4)\n",
        "plt.show()"
      ]
    },
    {
      "cell_type": "markdown",
      "metadata": {
        "id": "K6nqE-RK-AGE"
      },
      "source": [
        "As we expect the box-plot confirms the positive asymmetry of the distribution and it shows the very long right tail."
      ]
    },
    {
      "cell_type": "markdown",
      "metadata": {
        "id": "G3rowDNd-AGE"
      },
      "source": [
        "We now look at the max and min date we find in post to see in what time range our data was collected"
      ]
    },
    {
      "cell_type": "code",
      "execution_count": null,
      "metadata": {
        "id": "oA6ZfHWN-AGE",
        "outputId": "2f0ce580-4ce6-4b94-8bbe-3c4da4b73b68"
      },
      "outputs": [
        {
          "name": "stdout",
          "output_type": "stream",
          "text": [
            "2010-07-19 01:12:23.000\n",
            "2019-08-30 11:36:08.000\n"
          ]
        }
      ],
      "source": [
        "df_posts.dropna(inplace=True)\n",
        "print(df_posts['cts'].min())\n",
        "print(df_posts['cts'].max())"
      ]
    },
    {
      "cell_type": "markdown",
      "metadata": {
        "id": "LUjq4Req-AGF"
      },
      "source": [
        "The range is roughly 2010-2019 so in years when instagram was a very different platform as it is today."
      ]
    },
    {
      "cell_type": "code",
      "execution_count": null,
      "metadata": {
        "id": "eaSE90vU-AGF",
        "outputId": "fa5d59de-6cca-446c-997d-38fd10e0c7b6"
      },
      "outputs": [
        {
          "data": {
            "text/html": [
              "<div>\n",
              "<style scoped>\n",
              "    .dataframe tbody tr th:only-of-type {\n",
              "        vertical-align: middle;\n",
              "    }\n",
              "\n",
              "    .dataframe tbody tr th {\n",
              "        vertical-align: top;\n",
              "    }\n",
              "\n",
              "    .dataframe thead th {\n",
              "        text-align: right;\n",
              "    }\n",
              "</style>\n",
              "<table border=\"1\" class=\"dataframe\">\n",
              "  <thead>\n",
              "    <tr style=\"text-align: right;\">\n",
              "      <th></th>\n",
              "      <th>n_posts</th>\n",
              "      <th>followers</th>\n",
              "      <th>following</th>\n",
              "    </tr>\n",
              "  </thead>\n",
              "  <tbody>\n",
              "    <tr>\n",
              "      <th>n_posts</th>\n",
              "      <td>1.000000</td>\n",
              "      <td>0.053064</td>\n",
              "      <td>0.029669</td>\n",
              "    </tr>\n",
              "    <tr>\n",
              "      <th>followers</th>\n",
              "      <td>0.053064</td>\n",
              "      <td>1.000000</td>\n",
              "      <td>0.008368</td>\n",
              "    </tr>\n",
              "    <tr>\n",
              "      <th>following</th>\n",
              "      <td>0.029669</td>\n",
              "      <td>0.008368</td>\n",
              "      <td>1.000000</td>\n",
              "    </tr>\n",
              "  </tbody>\n",
              "</table>\n",
              "</div>"
            ],
            "text/plain": [
              "            n_posts  followers  following\n",
              "n_posts    1.000000   0.053064   0.029669\n",
              "followers  0.053064   1.000000   0.008368\n",
              "following  0.029669   0.008368   1.000000"
            ]
          },
          "execution_count": 16,
          "metadata": {},
          "output_type": "execute_result"
        }
      ],
      "source": [
        "df_profiles[['n_posts','followers','following']].corr()"
      ]
    },
    {
      "cell_type": "markdown",
      "metadata": {
        "id": "k-fT7LWL-AGG"
      },
      "source": [
        "We print the correlation between the numeric variables of the file profiles. As can be seen, the correlation between these variables is not relevant, it is near to zero. It means that the intensity of the linear relationship is almost null."
      ]
    },
    {
      "cell_type": "markdown",
      "metadata": {
        "id": "PGQfgFtv-AGH"
      },
      "source": [
        "# RQ2 "
      ]
    },
    {
      "cell_type": "code",
      "execution_count": null,
      "metadata": {
        "id": "rrkBgV_1-AGH"
      },
      "outputs": [],
      "source": [
        "cols_profiles = ['profile_id', 'followers', 'n_posts', 'profile_name', 'is_business_account']\n",
        "cols_posts = ['profile_id', 'location_id', 'post_type', 'numbr_likes', 'number_comments']\n",
        "df_profiles = pd.read_csv(\"instagram_profiles.csv\", sep='\\t', usecols = cols_profiles)        \n",
        "df_posts = pd.read_csv(\"instagram_posts.csv\", sep='\\t', usecols=cols_posts)"
      ]
    },
    {
      "cell_type": "markdown",
      "metadata": {
        "id": "TWWsG7pw-AGI"
      },
      "source": [
        "## a) Plot the number of posts for each profile in descending order. ##"
      ]
    },
    {
      "cell_type": "code",
      "execution_count": null,
      "metadata": {
        "id": "mKy-PGd--AGI",
        "outputId": "7a4bfda2-68de-45fa-b83b-d9545cbe92d2"
      },
      "outputs": [
        {
          "data": {
            "text/html": [
              "<div>\n",
              "<style scoped>\n",
              "    .dataframe tbody tr th:only-of-type {\n",
              "        vertical-align: middle;\n",
              "    }\n",
              "\n",
              "    .dataframe tbody tr th {\n",
              "        vertical-align: top;\n",
              "    }\n",
              "\n",
              "    .dataframe thead th {\n",
              "        text-align: right;\n",
              "    }\n",
              "</style>\n",
              "<table border=\"1\" class=\"dataframe\">\n",
              "  <thead>\n",
              "    <tr style=\"text-align: right;\">\n",
              "      <th></th>\n",
              "      <th>profile_id</th>\n",
              "      <th>n_posts</th>\n",
              "    </tr>\n",
              "  </thead>\n",
              "  <tbody>\n",
              "    <tr>\n",
              "      <th>3990313</th>\n",
              "      <td>1.996648e+08</td>\n",
              "      <td>183730.0</td>\n",
              "    </tr>\n",
              "    <tr>\n",
              "      <th>2571453</th>\n",
              "      <td>8.563367e+09</td>\n",
              "      <td>142428.0</td>\n",
              "    </tr>\n",
              "    <tr>\n",
              "      <th>4338921</th>\n",
              "      <td>1.273455e+09</td>\n",
              "      <td>126340.0</td>\n",
              "    </tr>\n",
              "    <tr>\n",
              "      <th>3942129</th>\n",
              "      <td>9.813508e+06</td>\n",
              "      <td>125220.0</td>\n",
              "    </tr>\n",
              "    <tr>\n",
              "      <th>4219642</th>\n",
              "      <td>1.607309e+09</td>\n",
              "      <td>117262.0</td>\n",
              "    </tr>\n",
              "    <tr>\n",
              "      <th>...</th>\n",
              "      <td>...</td>\n",
              "      <td>...</td>\n",
              "    </tr>\n",
              "    <tr>\n",
              "      <th>2402230</th>\n",
              "      <td>1.050933e+10</td>\n",
              "      <td>0.0</td>\n",
              "    </tr>\n",
              "    <tr>\n",
              "      <th>2402229</th>\n",
              "      <td>8.779595e+09</td>\n",
              "      <td>0.0</td>\n",
              "    </tr>\n",
              "    <tr>\n",
              "      <th>377966</th>\n",
              "      <td>8.618561e+08</td>\n",
              "      <td>0.0</td>\n",
              "    </tr>\n",
              "    <tr>\n",
              "      <th>2402225</th>\n",
              "      <td>4.117964e+09</td>\n",
              "      <td>0.0</td>\n",
              "    </tr>\n",
              "    <tr>\n",
              "      <th>1243638</th>\n",
              "      <td>3.991297e+09</td>\n",
              "      <td>0.0</td>\n",
              "    </tr>\n",
              "  </tbody>\n",
              "</table>\n",
              "<p>3447698 rows × 2 columns</p>\n",
              "</div>"
            ],
            "text/plain": [
              "           profile_id   n_posts\n",
              "3990313  1.996648e+08  183730.0\n",
              "2571453  8.563367e+09  142428.0\n",
              "4338921  1.273455e+09  126340.0\n",
              "3942129  9.813508e+06  125220.0\n",
              "4219642  1.607309e+09  117262.0\n",
              "...               ...       ...\n",
              "2402230  1.050933e+10       0.0\n",
              "2402229  8.779595e+09       0.0\n",
              "377966   8.618561e+08       0.0\n",
              "2402225  4.117964e+09       0.0\n",
              "1243638  3.991297e+09       0.0\n",
              "\n",
              "[3447698 rows x 2 columns]"
            ]
          },
          "execution_count": 76,
          "metadata": {},
          "output_type": "execute_result"
        }
      ],
      "source": [
        "df_profiles.sort_values(by='n_posts', ascending=False)[['profile_id', 'n_posts']].dropna(axis = 0, how = \"any\")"
      ]
    },
    {
      "cell_type": "markdown",
      "metadata": {
        "id": "2ak6mAcI-AGI"
      },
      "source": [
        "## b) What posts have the highest number of \"likes\"?"
      ]
    },
    {
      "cell_type": "code",
      "execution_count": null,
      "metadata": {
        "id": "il12WFpw-AGJ",
        "outputId": "2117ed42-f695-4f5e-b8c7-79caacfd34d4"
      },
      "outputs": [
        {
          "data": {
            "text/html": [
              "<div>\n",
              "<style scoped>\n",
              "    .dataframe tbody tr th:only-of-type {\n",
              "        vertical-align: middle;\n",
              "    }\n",
              "\n",
              "    .dataframe tbody tr th {\n",
              "        vertical-align: top;\n",
              "    }\n",
              "\n",
              "    .dataframe thead th {\n",
              "        text-align: right;\n",
              "    }\n",
              "</style>\n",
              "<table border=\"1\" class=\"dataframe\">\n",
              "  <thead>\n",
              "    <tr style=\"text-align: right;\">\n",
              "      <th></th>\n",
              "      <th>profile_id</th>\n",
              "      <th>location_id</th>\n",
              "      <th>post_type</th>\n",
              "      <th>numbr_likes</th>\n",
              "      <th>number_comments</th>\n",
              "    </tr>\n",
              "  </thead>\n",
              "  <tbody>\n",
              "    <tr>\n",
              "      <th>19624085</th>\n",
              "      <td>49067778.0</td>\n",
              "      <td>NaN</td>\n",
              "      <td>1</td>\n",
              "      <td>8822952.0</td>\n",
              "      <td>165886.0</td>\n",
              "    </tr>\n",
              "  </tbody>\n",
              "</table>\n",
              "</div>"
            ],
            "text/plain": [
              "          profile_id  location_id  post_type  numbr_likes  number_comments\n",
              "19624085  49067778.0          NaN          1    8822952.0         165886.0"
            ]
          },
          "execution_count": 77,
          "metadata": {},
          "output_type": "execute_result"
        }
      ],
      "source": [
        "df_posts[df_posts['numbr_likes'] == df_posts['numbr_likes'].max()]"
      ]
    },
    {
      "cell_type": "markdown",
      "metadata": {
        "id": "mYCH9qfC-AGJ"
      },
      "source": [
        "## c) What posts have the most and the least number of comments?"
      ]
    },
    {
      "cell_type": "code",
      "execution_count": null,
      "metadata": {
        "id": "x0LhbgqB-AGJ",
        "outputId": "85cbd2fb-a59e-486e-cc47-dd6431e2355a"
      },
      "outputs": [
        {
          "data": {
            "text/html": [
              "<div>\n",
              "<style scoped>\n",
              "    .dataframe tbody tr th:only-of-type {\n",
              "        vertical-align: middle;\n",
              "    }\n",
              "\n",
              "    .dataframe tbody tr th {\n",
              "        vertical-align: top;\n",
              "    }\n",
              "\n",
              "    .dataframe thead th {\n",
              "        text-align: right;\n",
              "    }\n",
              "</style>\n",
              "<table border=\"1\" class=\"dataframe\">\n",
              "  <thead>\n",
              "    <tr style=\"text-align: right;\">\n",
              "      <th></th>\n",
              "      <th>profile_id</th>\n",
              "      <th>location_id</th>\n",
              "      <th>post_type</th>\n",
              "      <th>numbr_likes</th>\n",
              "      <th>number_comments</th>\n",
              "    </tr>\n",
              "  </thead>\n",
              "  <tbody>\n",
              "    <tr>\n",
              "      <th>41873060</th>\n",
              "      <td>1.635670e+09</td>\n",
              "      <td>244000222.0</td>\n",
              "      <td>1</td>\n",
              "      <td>38871.0</td>\n",
              "      <td>488953.0</td>\n",
              "    </tr>\n",
              "  </tbody>\n",
              "</table>\n",
              "</div>"
            ],
            "text/plain": [
              "            profile_id  location_id  post_type  numbr_likes  number_comments\n",
              "41873060  1.635670e+09  244000222.0          1      38871.0         488953.0"
            ]
          },
          "execution_count": 78,
          "metadata": {},
          "output_type": "execute_result"
        }
      ],
      "source": [
        "df_posts[df_posts['number_comments'] == df_posts['number_comments'].max()]"
      ]
    },
    {
      "cell_type": "markdown",
      "metadata": {
        "id": "nZEWZhCk-AGK"
      },
      "source": [
        "There is only a post with the highest number of comments"
      ]
    },
    {
      "cell_type": "code",
      "execution_count": null,
      "metadata": {
        "id": "Z_OHDWwK-AGK",
        "outputId": "96817212-1a13-485c-86d3-b4ca391cd625"
      },
      "outputs": [
        {
          "data": {
            "text/html": [
              "<div>\n",
              "<style scoped>\n",
              "    .dataframe tbody tr th:only-of-type {\n",
              "        vertical-align: middle;\n",
              "    }\n",
              "\n",
              "    .dataframe tbody tr th {\n",
              "        vertical-align: top;\n",
              "    }\n",
              "\n",
              "    .dataframe thead th {\n",
              "        text-align: right;\n",
              "    }\n",
              "</style>\n",
              "<table border=\"1\" class=\"dataframe\">\n",
              "  <thead>\n",
              "    <tr style=\"text-align: right;\">\n",
              "      <th></th>\n",
              "      <th>profile_id</th>\n",
              "      <th>location_id</th>\n",
              "      <th>post_type</th>\n",
              "      <th>numbr_likes</th>\n",
              "      <th>number_comments</th>\n",
              "    </tr>\n",
              "  </thead>\n",
              "  <tbody>\n",
              "    <tr>\n",
              "      <th>0</th>\n",
              "      <td>2.237948e+09</td>\n",
              "      <td>1.022366e+15</td>\n",
              "      <td>2</td>\n",
              "      <td>80.0</td>\n",
              "      <td>0.0</td>\n",
              "    </tr>\n",
              "    <tr>\n",
              "      <th>2</th>\n",
              "      <td>3.134296e+08</td>\n",
              "      <td>4.574268e+14</td>\n",
              "      <td>1</td>\n",
              "      <td>9.0</td>\n",
              "      <td>0.0</td>\n",
              "    </tr>\n",
              "    <tr>\n",
              "      <th>3</th>\n",
              "      <td>1.837593e+09</td>\n",
              "      <td>4.574268e+14</td>\n",
              "      <td>1</td>\n",
              "      <td>4.0</td>\n",
              "      <td>0.0</td>\n",
              "    </tr>\n",
              "    <tr>\n",
              "      <th>4</th>\n",
              "      <td>1.131527e+09</td>\n",
              "      <td>4.574268e+14</td>\n",
              "      <td>1</td>\n",
              "      <td>8.0</td>\n",
              "      <td>0.0</td>\n",
              "    </tr>\n",
              "    <tr>\n",
              "      <th>11</th>\n",
              "      <td>4.276275e+07</td>\n",
              "      <td>2.826187e+08</td>\n",
              "      <td>1</td>\n",
              "      <td>16.0</td>\n",
              "      <td>0.0</td>\n",
              "    </tr>\n",
              "    <tr>\n",
              "      <th>...</th>\n",
              "      <td>...</td>\n",
              "      <td>...</td>\n",
              "      <td>...</td>\n",
              "      <td>...</td>\n",
              "      <td>...</td>\n",
              "    </tr>\n",
              "    <tr>\n",
              "      <th>42710190</th>\n",
              "      <td>7.012646e+09</td>\n",
              "      <td>4.574268e+14</td>\n",
              "      <td>1</td>\n",
              "      <td>43.0</td>\n",
              "      <td>0.0</td>\n",
              "    </tr>\n",
              "    <tr>\n",
              "      <th>42710191</th>\n",
              "      <td>6.891278e+09</td>\n",
              "      <td>4.574268e+14</td>\n",
              "      <td>1</td>\n",
              "      <td>149.0</td>\n",
              "      <td>0.0</td>\n",
              "    </tr>\n",
              "    <tr>\n",
              "      <th>42710192</th>\n",
              "      <td>5.556457e+09</td>\n",
              "      <td>4.574268e+14</td>\n",
              "      <td>1</td>\n",
              "      <td>74.0</td>\n",
              "      <td>0.0</td>\n",
              "    </tr>\n",
              "    <tr>\n",
              "      <th>42710193</th>\n",
              "      <td>3.371865e+08</td>\n",
              "      <td>4.574268e+14</td>\n",
              "      <td>1</td>\n",
              "      <td>49.0</td>\n",
              "      <td>0.0</td>\n",
              "    </tr>\n",
              "    <tr>\n",
              "      <th>42710194</th>\n",
              "      <td>3.289886e+09</td>\n",
              "      <td>4.574268e+14</td>\n",
              "      <td>1</td>\n",
              "      <td>18.0</td>\n",
              "      <td>0.0</td>\n",
              "    </tr>\n",
              "  </tbody>\n",
              "</table>\n",
              "<p>14133169 rows × 5 columns</p>\n",
              "</div>"
            ],
            "text/plain": [
              "            profile_id   location_id  post_type  numbr_likes  number_comments\n",
              "0         2.237948e+09  1.022366e+15          2         80.0              0.0\n",
              "2         3.134296e+08  4.574268e+14          1          9.0              0.0\n",
              "3         1.837593e+09  4.574268e+14          1          4.0              0.0\n",
              "4         1.131527e+09  4.574268e+14          1          8.0              0.0\n",
              "11        4.276275e+07  2.826187e+08          1         16.0              0.0\n",
              "...                ...           ...        ...          ...              ...\n",
              "42710190  7.012646e+09  4.574268e+14          1         43.0              0.0\n",
              "42710191  6.891278e+09  4.574268e+14          1        149.0              0.0\n",
              "42710192  5.556457e+09  4.574268e+14          1         74.0              0.0\n",
              "42710193  3.371865e+08  4.574268e+14          1         49.0              0.0\n",
              "42710194  3.289886e+09  4.574268e+14          1         18.0              0.0\n",
              "\n",
              "[14133169 rows x 5 columns]"
            ]
          },
          "execution_count": 79,
          "metadata": {},
          "output_type": "execute_result"
        }
      ],
      "source": [
        "df_posts[df_posts['number_comments'] == df_posts['number_comments'].min()]"
      ]
    },
    {
      "cell_type": "markdown",
      "metadata": {
        "id": "LwzBm3iU-AGL"
      },
      "source": [
        "There are a lot of posts with a zero comments"
      ]
    },
    {
      "cell_type": "markdown",
      "metadata": {
        "id": "wNKC2XkZ-AGL"
      },
      "source": [
        "## d) How many posts include tagged locations, and how many do not? Show it using an appropriate chart and comment your results."
      ]
    },
    {
      "cell_type": "code",
      "execution_count": null,
      "metadata": {
        "id": "P0pkX3XC-AGL"
      },
      "outputs": [],
      "source": [
        "Number_PostnoLoc = df_posts['location_id'].isna().sum()"
      ]
    },
    {
      "cell_type": "code",
      "execution_count": null,
      "metadata": {
        "id": "L77UUqzS-AGL",
        "outputId": "f3e76cae-4dc6-4267-ec9f-055db7400aa9"
      },
      "outputs": [
        {
          "data": {
            "text/plain": [
              "12972772"
            ]
          },
          "execution_count": 81,
          "metadata": {},
          "output_type": "execute_result"
        }
      ],
      "source": [
        "Number_PostnoLoc"
      ]
    },
    {
      "cell_type": "markdown",
      "metadata": {
        "id": "VwLsq888-AGM"
      },
      "source": [
        "These are the posts that not include the tagged location"
      ]
    },
    {
      "cell_type": "code",
      "execution_count": null,
      "metadata": {
        "id": "QPS09eB5-AGM"
      },
      "outputs": [],
      "source": [
        "n_yes_loc = len(df_posts-Number_PostnoLoc)"
      ]
    },
    {
      "cell_type": "code",
      "execution_count": null,
      "metadata": {
        "id": "TxclMQh5-AGM",
        "outputId": "641fe39b-8717-4e41-a3fd-6234ebd31a4e"
      },
      "outputs": [
        {
          "data": {
            "text/plain": [
              "42710197"
            ]
          },
          "execution_count": 84,
          "metadata": {},
          "output_type": "execute_result"
        }
      ],
      "source": [
        "n_yes_loc"
      ]
    },
    {
      "cell_type": "markdown",
      "metadata": {
        "id": "hCsK8k4v-AGN"
      },
      "source": [
        "These are the posts that include the tagged location"
      ]
    },
    {
      "cell_type": "code",
      "execution_count": null,
      "metadata": {
        "id": "Hp39OYDH-AGN",
        "outputId": "f11c917c-62c5-45f5-9cc6-2a3356074a35"
      },
      "outputs": [
        {
          "data": {
            "image/png": "[encoded data removed]",
            "text/plain": [
              "<Figure size 640x480 with 1 Axes>"
            ]
          },
          "metadata": {},
          "output_type": "display_data"
        }
      ],
      "source": [
        "PostTypes = ['Posts with Location','Posts without Location']\n",
        "Numbers = [n_yes_loc,Number_PostnoLoc]\n",
        "\n",
        "plt.bar(PostTypes, Numbers)\n",
        "plt.xlabel('Posts')\n",
        "plt.ylabel('Number of Posts')\n",
        "plt.show()"
      ]
    },
    {
      "cell_type": "markdown",
      "metadata": {
        "id": "6G2amzwW-AGN"
      },
      "source": [
        "We can tell that we have more posts with location rather that posts that does not have locations."
      ]
    },
    {
      "cell_type": "markdown",
      "metadata": {
        "id": "2kqsMYTW-AGO"
      },
      "source": [
        "## e) How many posts include only photos? How many also have videos?"
      ]
    },
    {
      "cell_type": "code",
      "execution_count": null,
      "metadata": {
        "id": "S31-85IO-AGO"
      },
      "outputs": [],
      "source": [
        "PhotoPosts = df_posts.loc[df_posts['post_type'] == 1]\n",
        "NumberofPhotoPosts = len(PhotoPosts)"
      ]
    },
    {
      "cell_type": "code",
      "execution_count": null,
      "metadata": {
        "id": "DHWsgxc9-AGO"
      },
      "outputs": [],
      "source": [
        "bothPosts = df_posts.loc[df_posts['post_type'] == 3]\n",
        "NumberofbothPosts = len(bothPosts)"
      ]
    },
    {
      "cell_type": "code",
      "execution_count": null,
      "metadata": {
        "id": "keYszKAo-AGO",
        "outputId": "f1e6e9b7-0fef-4f2e-ad73-ac640984e107"
      },
      "outputs": [
        {
          "data": {
            "text/plain": [
              "41534486"
            ]
          },
          "execution_count": 90,
          "metadata": {},
          "output_type": "execute_result"
        }
      ],
      "source": [
        "NumberofPhotoPosts"
      ]
    },
    {
      "cell_type": "markdown",
      "metadata": {
        "id": "_PjC0y-D-AGP"
      },
      "source": [
        "This is the number of posts that contain only photos"
      ]
    },
    {
      "cell_type": "code",
      "execution_count": null,
      "metadata": {
        "id": "hsUKJMxU-AGP",
        "outputId": "86a87c89-4b5c-47cd-e9f7-f04885b88b62"
      },
      "outputs": [
        {
          "data": {
            "text/plain": [
              "40943"
            ]
          },
          "execution_count": 91,
          "metadata": {},
          "output_type": "execute_result"
        }
      ],
      "source": [
        "NumberofbothPosts"
      ]
    },
    {
      "cell_type": "markdown",
      "metadata": {
        "id": "Au9baIQ9-AGP"
      },
      "source": [
        "This is the number of posts that contain both photos and videos."
      ]
    },
    {
      "cell_type": "markdown",
      "metadata": {
        "id": "FZu7DCVy-AGQ"
      },
      "source": [
        "## f) What's the percentage of business accounts vs non-business? What can you interpret regarding that percentage?"
      ]
    },
    {
      "cell_type": "code",
      "execution_count": null,
      "metadata": {
        "id": "gqbyERBc-AGQ",
        "outputId": "7ccf7cd7-68fe-406f-b53d-2bd3c9bd4a63"
      },
      "outputs": [
        {
          "data": {
            "text/plain": [
              "False    2590069\n",
              "True      855254\n",
              "Name: is_business_account, dtype: int64"
            ]
          },
          "execution_count": 102,
          "metadata": {},
          "output_type": "execute_result"
        }
      ],
      "source": [
        "counts = df_profiles.is_business_account.value_counts()\n",
        "counts"
      ]
    },
    {
      "cell_type": "code",
      "execution_count": null,
      "metadata": {
        "id": "5y_0GoVu-AGR",
        "outputId": "7869b600-f2ab-4cae-c417-f445fc15b786"
      },
      "outputs": [
        {
          "data": {
            "image/png": "[encoded data removed]",
            "text/plain": [
              "<Figure size 640x480 with 1 Axes>"
            ]
          },
          "metadata": {},
          "output_type": "display_data"
        }
      ],
      "source": [
        "labels= ['Is Business Account', 'Is Not Business Account']\n",
        "\n",
        "colors=['green', 'red']\n",
        "\n",
        "sizes= [counts.values[1], counts.values[0]]\n",
        "\n",
        "plt.pie(sizes,labels=labels, colors=colors, startangle=90, autopct='%1.1f%%')\n",
        "\n",
        "plt.axis('equal')\n",
        "\n",
        "plt.show()"
      ]
    },
    {
      "cell_type": "markdown",
      "metadata": {
        "id": "O0k0iIOm-AGR"
      },
      "source": [
        "The number of people that work with instagram and have business accounts are less than normal users.\n",
        "Normal users are about three times the percentage of business accounts. The numbers of business accounts don't include only people that actually work with instagram, but also people that just want to analize their user activity."
      ]
    },
    {
      "cell_type": "code",
      "execution_count": null,
      "metadata": {
        "id": "u8INCR8q-AGS"
      },
      "outputs": [],
      "source": [
        "del df_profiles\n",
        "del df_posts"
      ]
    },
    {
      "cell_type": "markdown",
      "metadata": {
        "id": "suxI2ALC-AGS"
      },
      "source": [
        "# RQ3"
      ]
    },
    {
      "cell_type": "code",
      "execution_count": null,
      "metadata": {
        "id": "Ddc-nbrn-AGS"
      },
      "outputs": [],
      "source": [
        "df_posts=pd.read_csv(\"instagram_posts.csv\", sep='\\t',usecols=['cts'])"
      ]
    },
    {
      "cell_type": "markdown",
      "metadata": {
        "id": "wIBzvihT-AGT"
      },
      "source": [
        "To answer the a) question we made the choice to compute first the b) question and then the a) question "
      ]
    },
    {
      "cell_type": "markdown",
      "metadata": {
        "id": "SiELZeGJ-AGT"
      },
      "source": [
        "## b) Create a function that receives a time intervals list as a parameter and returns a plot with the number of posts for each given interval."
      ]
    },
    {
      "cell_type": "markdown",
      "metadata": {
        "id": "67mA_Qfx-AGT"
      },
      "source": [
        "the input intervals list is assumed to be of the form below:\n",
        "\n",
        "input_intervals=['06:00:00','10:59:59','11:00:00','13:59:59',...,'23:59:59','00:00:00','2:59:59','03:00:00','5:59:59']\n",
        "\n",
        "intervals_sort manipulates the list input_intervals in order to prform the algorithm function_RQ3;\n",
        "\n",
        "counter_original_intervals reorders the values used by the function function_RQ3 relative to the input intervals."
      ]
    },
    {
      "cell_type": "code",
      "execution_count": null,
      "metadata": {
        "id": "szF3ba7O-AGU"
      },
      "outputs": [],
      "source": [
        "def intervals_sort(input_intervals):\n",
        "   l=input_intervals[::2]\n",
        "   num_intervals=len(l)\n",
        "   \n",
        "   list_variable=[]\n",
        "   variable=[0,0,0]\n",
        "\n",
        "   for i in range(num_intervals):\n",
        "       variable=list(map(str,l[i].split(':')))\n",
        "       list_variable.append(int('9'+variable[0]+variable[1]+variable[2]))\n",
        "        \n",
        "   list_variable.sort()\n",
        "   output_intervals=[] \n",
        "      \n",
        "   for i in range(num_intervals):\n",
        "       variable=str(list_variable[i])[1:]\n",
        "       output_intervals.append((('0'+variable[:-4])[-2:]+':'+('0'+variable[-4:-2])[-2:]+':'+('0'+variable[-2:])[-2:])) \n",
        "    \n",
        "   return output_intervals,num_intervals\n",
        "\n",
        "\n",
        "def counter_original_intervals(input_intervals,output_intervals,output_counter):\n",
        "   l=input_intervals[::2]\n",
        "   j=0\n",
        "   while l[0]!=output_intervals[j]:\n",
        "       j+=1  \n",
        "   input_counter=output_counter[j:]+output_counter[:j] \n",
        "   return  input_counter "
      ]
    },
    {
      "cell_type": "code",
      "execution_count": null,
      "metadata": {
        "id": "KfQIXrnT-AGV"
      },
      "outputs": [],
      "source": [
        "def function_RQ3(input_intervals,df_posts):\n",
        "  output_intervals,num_intervals=intervals_sort(input_intervals)  \n",
        "  \n",
        "  intervals_initial_time=[]\n",
        "  variable=[0,0,0]\n",
        "  \n",
        "    \n",
        "  for i in range(num_intervals):\n",
        "       variable=list(map(str,output_intervals[i].split(':')))       \n",
        "       intervals_initial_time.append(int(variable[0]+variable[1]+variable[2]))\n",
        "   \n",
        "  counter=list(np.zeros(num_intervals,int))\n",
        "  df_posts_local=df_posts.fillna('') \n",
        "  '''\n",
        "  it's usefull to fill the missin value with the string ''\n",
        "  '''\n",
        "  for i in range(len(df_posts_local)):        \n",
        "    date_time=df_posts_local.loc[i][0]\n",
        "    '''\n",
        "    First elemnt of the i-th row of the DataFrame object post_time.\n",
        "    The 'cts' record, so the one stored in post_time, is a string with the structure DATE_TIME , \n",
        "    where '_' it'a a space, I'm interested to the TIME with is write HOUR:MIN:SEC\n",
        "    '''\n",
        "    if date_time!='':\n",
        "        time=((date_time.split())[1]).split(':')\n",
        "        \n",
        "        t_current=int(time[0]+time[1]+time[2][:2])\n",
        "                    \n",
        "        \n",
        "        if (intervals_initial_time[-1]<=t_current) or (t_current<intervals_initial_time[0]):\n",
        "            counter[-1]+=1\n",
        "        else:\n",
        "            j=0\n",
        "            while not(intervals_initial_time[j]<=t_current<intervals_initial_time[j+1]): \n",
        "                j+=1\n",
        "            counter[j]+=1\n",
        "            \n",
        "  input_counter=counter_original_intervals(input_intervals,output_intervals,counter)   \n",
        "  bins=np.linspace(1, num_intervals,num_intervals,dtype=int)\n",
        "  plt.bar(bins,input_counter, width=0.1)\n",
        "  plt.show()\n",
        "  return counter,num_intervals"
      ]
    },
    {
      "cell_type": "markdown",
      "metadata": {
        "id": "jLaU0URF-AGW"
      },
      "source": [
        "## a) What is the most common time in which users publish their posts?"
      ]
    },
    {
      "cell_type": "code",
      "execution_count": null,
      "metadata": {
        "id": "ZCln6I9m-AGW",
        "outputId": "e3821b65-276b-4254-cb8a-e9513d116e76"
      },
      "outputs": [
        {
          "data": {
            "image/png": "[encoded data removed]",
            "text/plain": [
              "<Figure size 640x480 with 1 Axes>"
            ]
          },
          "metadata": {},
          "output_type": "display_data"
        }
      ],
      "source": [
        "day_hours=[]\n",
        "for i in range(24):\n",
        "    day_hours.append(('0'+str(i))[-2:]+':00:00')\n",
        "    day_hours.append(('0'+str(i))[-2:]+':59:59')\n",
        "'''\n",
        "day_hours is a list of intervals whose time span is one hour, and the intial time of the first interval is 00:00:00\n",
        "'''\n",
        "counter_day_hours,num_intervals_day_hours=function_RQ3(day_hours,df_posts)"
      ]
    },
    {
      "cell_type": "code",
      "execution_count": null,
      "metadata": {
        "id": "ouexuo1_-AGX",
        "outputId": "41a01bd7-716e-45d4-8bec-f3bf42c2bcd6"
      },
      "outputs": [
        {
          "name": "stdout",
          "output_type": "stream",
          "text": [
            "The most common time in which users publish their posts is:\n",
            "19:00:00 --> 19:59:59\n"
          ]
        }
      ],
      "source": [
        "index_common_time=2*counter_day_hours.index(max(counter_day_hours))\n",
        "print('The most common time in which users publish their posts is:')\n",
        "print(day_hours[index_common_time],'-->',day_hours[index_common_time+1])"
      ]
    },
    {
      "cell_type": "markdown",
      "metadata": {
        "id": "wB6_KKs_-AGX"
      },
      "source": [
        "## c) Use the function that you created in the previous literal to plot the number of posts between the following time intervals:\n",
        "|Initial time|Final time|\n",
        "|--|--|\n",
        "|06:00:00|10:59:59|\n",
        "|11:00:00|13:59:59|\n",
        "|14:00:00|16:59:59|\n",
        "|17:00:00|19:59:59|\n",
        "|20:00:00|23:59:59|\n",
        "|00:00:00|02:59:59|\n",
        "|03:00:00|05:59:59|"
      ]
    },
    {
      "cell_type": "code",
      "execution_count": null,
      "metadata": {
        "id": "mU_QBnj8-AGY",
        "outputId": "6b3b8823-4b24-4884-d166-e007bc551c08"
      },
      "outputs": [
        {
          "data": {
            "image/png": "[encoded data removed]",
            "text/plain": [
              "<Figure size 640x480 with 1 Axes>"
            ]
          },
          "metadata": {},
          "output_type": "display_data"
        },
        {
          "name": "stdout",
          "output_type": "stream",
          "text": [
            "[4213617, 3411223, 6378572, 5614715, 6763037, 7409907, 8915794]\n"
          ]
        }
      ],
      "source": [
        "input_intervals=['06:00:00','10:59:59','11:00:00','13:59:59','14:00:00','16:59:59','17:00:00','19:59:59','20:00:00','23:59:59','00:00:00','2:59:59','03:00:00','5:59:59']\n",
        "counter_intervals,num_intervals=function_RQ3(input_intervals,df_posts)\n",
        "print(counter_intervals)"
      ]
    },
    {
      "cell_type": "code",
      "execution_count": null,
      "metadata": {
        "id": "MANpqCzW-AGY"
      },
      "outputs": [],
      "source": [
        "del df_posts"
      ]
    },
    {
      "cell_type": "markdown",
      "metadata": {
        "id": "TeMgn1ja-AGZ"
      },
      "source": [
        "# RQ4"
      ]
    },
    {
      "cell_type": "code",
      "execution_count": null,
      "metadata": {
        "id": "OR4yVgo2-AGa"
      },
      "outputs": [],
      "source": [
        "df_profiles=pd.read_csv(\"instagram_profiles.csv\", sep='\\t',usecols=['profile_id','n_posts'])\n",
        "df_posts=pd.read_csv(\"instagram_posts.csv\", sep='\\t',usecols=['cts','post_id','profile_id','numbr_likes','number_comments'])"
      ]
    },
    {
      "cell_type": "markdown",
      "metadata": {
        "id": "Ew-Cppax-AGb"
      },
      "source": [
        "## a) Write a function that, given a profile_id, will be able to return the posts that belong to the given profile_id."
      ]
    },
    {
      "cell_type": "code",
      "execution_count": null,
      "metadata": {
        "id": "_INHu0MG-AGb"
      },
      "outputs": [],
      "source": [
        "def post_of_one_profile(profile_id,post_info):\n",
        "    int_profile_id=int(profile_id)\n",
        "    \n",
        "    df_post_of_one_profile=post_info['post_id'].where(int_profile_id==post_info['profile_id'])\n",
        "    df_post_time_of_one_profile=post_info['cts'].where(int_profile_id==post_info['profile_id'])\n",
        "    \n",
        "    profile_post=list(df_post_of_one_profile.dropna())\n",
        "    list_post_time=list(df_post_time_of_one_profile.dropna())\n",
        "          \n",
        "    return  profile_post ,  list_post_time   "
      ]
    },
    {
      "cell_type": "markdown",
      "metadata": {
        "id": "nN7A5pX5-AGb"
      },
      "source": [
        "## b) Write another function that, given an input n (an integer), will return the posts that belong to the n top posted profiles (top n profiles that have posted the highest number of posts) that their data is available in the profile.csv using the previously written function."
      ]
    },
    {
      "cell_type": "code",
      "execution_count": null,
      "metadata": {
        "id": "hnbi35Kg-AGc"
      },
      "outputs": [],
      "source": [
        "def top_n_profiles(profile_info,n):\n",
        "    \n",
        "    top_n_post_number=list(np.zeros(n,int))\n",
        "    top_n_profile=list(np.zeros(n,int))\n",
        "    counter_nth_profile=0\n",
        "    \n",
        "    for i in range(len(profile_info)):\n",
        "        \n",
        "        current_post_number=profile_info.loc[i][1]\n",
        "        current_profile=profile_info.loc[i][0]\n",
        "        \n",
        "        if current_post_number>top_n_post_number[0]:\n",
        "           j=1\n",
        "           while  j<n  and current_post_number>top_n_post_number[j] :  \n",
        "             j+=1\n",
        "           top_n_post_number.insert(j,current_post_number)\n",
        "           top_n_post_number.pop(0)\n",
        "           top_n_profile.insert(j,current_profile)\n",
        "           top_n_profile.pop(0)\n",
        "           counter_nth_profile=0 \n",
        "        elif current_post_number==top_n_post_number[0]:\n",
        "           counter_nth_profile+=1  \n",
        "    \n",
        "    post_of_top_n=[]\n",
        "    post_time_of_top_n=[]\n",
        "    for i in range(n):\n",
        "        post_of_top_i, post_time_i=post_of_one_profile(top_n_profile[i],df_posts)\n",
        "        post_of_top_n.append(post_of_top_i)\n",
        "        post_time_of_top_n.append(post_time_i)                                               \n",
        "    \n",
        "    top_n_post_number.reverse()\n",
        "    top_n_profile.reverse()\n",
        "    \n",
        "    return  post_of_top_n, top_n_profile , top_n_post_number , post_time_of_top_n , counter_nth_profile"
      ]
    },
    {
      "cell_type": "markdown",
      "metadata": {
        "id": "mEPef-q4-AGd"
      },
      "source": [
        "## c) What is the average number of \"likes\" and comments of the top 10 profiles with the highest number of posts which their information is available in profile.csv?"
      ]
    },
    {
      "cell_type": "code",
      "execution_count": null,
      "metadata": {
        "id": "LsKiRpbL-AGd"
      },
      "outputs": [],
      "source": [
        "top_ten_profiles = df_profiles.sort_values(by = \"n_posts\", ascending=False).head(10) "
      ]
    },
    {
      "cell_type": "code",
      "execution_count": null,
      "metadata": {
        "id": "XEIIqoeh-AGd",
        "outputId": "c9651262-d1d8-4e57-ed37-8483cd84e61e"
      },
      "outputs": [
        {
          "data": {
            "text/html": [
              "<div>\n",
              "<style scoped>\n",
              "    .dataframe tbody tr th:only-of-type {\n",
              "        vertical-align: middle;\n",
              "    }\n",
              "\n",
              "    .dataframe tbody tr th {\n",
              "        vertical-align: top;\n",
              "    }\n",
              "\n",
              "    .dataframe thead th {\n",
              "        text-align: right;\n",
              "    }\n",
              "</style>\n",
              "<table border=\"1\" class=\"dataframe\">\n",
              "  <thead>\n",
              "    <tr style=\"text-align: right;\">\n",
              "      <th></th>\n",
              "      <th>profile_id</th>\n",
              "      <th>n_posts</th>\n",
              "    </tr>\n",
              "  </thead>\n",
              "  <tbody>\n",
              "    <tr>\n",
              "      <th>3990313</th>\n",
              "      <td>1.996648e+08</td>\n",
              "      <td>183730.0</td>\n",
              "    </tr>\n",
              "    <tr>\n",
              "      <th>2571453</th>\n",
              "      <td>8.563367e+09</td>\n",
              "      <td>142428.0</td>\n",
              "    </tr>\n",
              "    <tr>\n",
              "      <th>4338921</th>\n",
              "      <td>1.273455e+09</td>\n",
              "      <td>126340.0</td>\n",
              "    </tr>\n",
              "    <tr>\n",
              "      <th>3942129</th>\n",
              "      <td>9.813508e+06</td>\n",
              "      <td>125220.0</td>\n",
              "    </tr>\n",
              "    <tr>\n",
              "      <th>4219642</th>\n",
              "      <td>1.607309e+09</td>\n",
              "      <td>117262.0</td>\n",
              "    </tr>\n",
              "    <tr>\n",
              "      <th>2207897</th>\n",
              "      <td>1.087614e+09</td>\n",
              "      <td>117099.0</td>\n",
              "    </tr>\n",
              "    <tr>\n",
              "      <th>4313908</th>\n",
              "      <td>1.603890e+09</td>\n",
              "      <td>113780.0</td>\n",
              "    </tr>\n",
              "    <tr>\n",
              "      <th>4219476</th>\n",
              "      <td>2.181730e+08</td>\n",
              "      <td>113182.0</td>\n",
              "    </tr>\n",
              "    <tr>\n",
              "      <th>4236057</th>\n",
              "      <td>2.855497e+08</td>\n",
              "      <td>112777.0</td>\n",
              "    </tr>\n",
              "    <tr>\n",
              "      <th>1631526</th>\n",
              "      <td>8.312603e+09</td>\n",
              "      <td>112723.0</td>\n",
              "    </tr>\n",
              "  </tbody>\n",
              "</table>\n",
              "</div>"
            ],
            "text/plain": [
              "           profile_id   n_posts\n",
              "3990313  1.996648e+08  183730.0\n",
              "2571453  8.563367e+09  142428.0\n",
              "4338921  1.273455e+09  126340.0\n",
              "3942129  9.813508e+06  125220.0\n",
              "4219642  1.607309e+09  117262.0\n",
              "2207897  1.087614e+09  117099.0\n",
              "4313908  1.603890e+09  113780.0\n",
              "4219476  2.181730e+08  113182.0\n",
              "4236057  2.855497e+08  112777.0\n",
              "1631526  8.312603e+09  112723.0"
            ]
          },
          "execution_count": 120,
          "metadata": {},
          "output_type": "execute_result"
        }
      ],
      "source": [
        "top_ten_profiles"
      ]
    },
    {
      "cell_type": "markdown",
      "metadata": {
        "id": "Dc3rlF5L-AGe"
      },
      "source": [
        "We find out the 10 profiles with the highest number of posts "
      ]
    },
    {
      "cell_type": "code",
      "execution_count": null,
      "metadata": {
        "id": "NceajnQt-AGe"
      },
      "outputs": [],
      "source": [
        "top_ten_lc = df_posts[df_posts['profile_id'].isin(top_ten_profiles.profile_id)]"
      ]
    },
    {
      "cell_type": "code",
      "execution_count": null,
      "metadata": {
        "id": "vHU07ZWf-AGe"
      },
      "outputs": [],
      "source": [
        "top_ten_lc = top_ten_lc[['profile_id','numbr_likes','number_comments']]"
      ]
    },
    {
      "cell_type": "code",
      "execution_count": null,
      "metadata": {
        "id": "uy0TrpoB-AGe",
        "outputId": "70687984-e5f3-4aae-db45-32ecdc65e28e"
      },
      "outputs": [
        {
          "data": {
            "text/html": [
              "<div>\n",
              "<style scoped>\n",
              "    .dataframe tbody tr th:only-of-type {\n",
              "        vertical-align: middle;\n",
              "    }\n",
              "\n",
              "    .dataframe tbody tr th {\n",
              "        vertical-align: top;\n",
              "    }\n",
              "\n",
              "    .dataframe thead th {\n",
              "        text-align: right;\n",
              "    }\n",
              "</style>\n",
              "<table border=\"1\" class=\"dataframe\">\n",
              "  <thead>\n",
              "    <tr style=\"text-align: right;\">\n",
              "      <th></th>\n",
              "      <th>profile_id</th>\n",
              "      <th>numbr_likes</th>\n",
              "      <th>number_comments</th>\n",
              "    </tr>\n",
              "  </thead>\n",
              "  <tbody>\n",
              "    <tr>\n",
              "      <th>233067</th>\n",
              "      <td>1.607309e+09</td>\n",
              "      <td>1.0</td>\n",
              "      <td>0.0</td>\n",
              "    </tr>\n",
              "    <tr>\n",
              "      <th>241977</th>\n",
              "      <td>1.607309e+09</td>\n",
              "      <td>0.0</td>\n",
              "      <td>0.0</td>\n",
              "    </tr>\n",
              "    <tr>\n",
              "      <th>319192</th>\n",
              "      <td>1.607309e+09</td>\n",
              "      <td>4.0</td>\n",
              "      <td>0.0</td>\n",
              "    </tr>\n",
              "    <tr>\n",
              "      <th>494943</th>\n",
              "      <td>1.603890e+09</td>\n",
              "      <td>4.0</td>\n",
              "      <td>0.0</td>\n",
              "    </tr>\n",
              "    <tr>\n",
              "      <th>592982</th>\n",
              "      <td>1.087614e+09</td>\n",
              "      <td>0.0</td>\n",
              "      <td>0.0</td>\n",
              "    </tr>\n",
              "    <tr>\n",
              "      <th>...</th>\n",
              "      <td>...</td>\n",
              "      <td>...</td>\n",
              "      <td>...</td>\n",
              "    </tr>\n",
              "    <tr>\n",
              "      <th>41291586</th>\n",
              "      <td>1.607309e+09</td>\n",
              "      <td>3.0</td>\n",
              "      <td>0.0</td>\n",
              "    </tr>\n",
              "    <tr>\n",
              "      <th>42044048</th>\n",
              "      <td>1.607309e+09</td>\n",
              "      <td>1.0</td>\n",
              "      <td>0.0</td>\n",
              "    </tr>\n",
              "    <tr>\n",
              "      <th>42154726</th>\n",
              "      <td>1.603890e+09</td>\n",
              "      <td>36.0</td>\n",
              "      <td>0.0</td>\n",
              "    </tr>\n",
              "    <tr>\n",
              "      <th>42240454</th>\n",
              "      <td>1.603890e+09</td>\n",
              "      <td>4.0</td>\n",
              "      <td>0.0</td>\n",
              "    </tr>\n",
              "    <tr>\n",
              "      <th>42518439</th>\n",
              "      <td>1.607309e+09</td>\n",
              "      <td>0.0</td>\n",
              "      <td>0.0</td>\n",
              "    </tr>\n",
              "  </tbody>\n",
              "</table>\n",
              "<p>356 rows × 3 columns</p>\n",
              "</div>"
            ],
            "text/plain": [
              "            profile_id  numbr_likes  number_comments\n",
              "233067    1.607309e+09          1.0              0.0\n",
              "241977    1.607309e+09          0.0              0.0\n",
              "319192    1.607309e+09          4.0              0.0\n",
              "494943    1.603890e+09          4.0              0.0\n",
              "592982    1.087614e+09          0.0              0.0\n",
              "...                ...          ...              ...\n",
              "41291586  1.607309e+09          3.0              0.0\n",
              "42044048  1.607309e+09          1.0              0.0\n",
              "42154726  1.603890e+09         36.0              0.0\n",
              "42240454  1.603890e+09          4.0              0.0\n",
              "42518439  1.607309e+09          0.0              0.0\n",
              "\n",
              "[356 rows x 3 columns]"
            ]
          },
          "execution_count": 135,
          "metadata": {},
          "output_type": "execute_result"
        }
      ],
      "source": [
        "top_ten_lc"
      ]
    },
    {
      "cell_type": "code",
      "execution_count": null,
      "metadata": {
        "id": "mUm7fbCj-AGf",
        "outputId": "55e4d767-e658-4883-a667-c97e3905a287"
      },
      "outputs": [
        {
          "data": {
            "text/html": [
              "<div>\n",
              "<style scoped>\n",
              "    .dataframe tbody tr th:only-of-type {\n",
              "        vertical-align: middle;\n",
              "    }\n",
              "\n",
              "    .dataframe tbody tr th {\n",
              "        vertical-align: top;\n",
              "    }\n",
              "\n",
              "    .dataframe thead th {\n",
              "        text-align: right;\n",
              "    }\n",
              "</style>\n",
              "<table border=\"1\" class=\"dataframe\">\n",
              "  <thead>\n",
              "    <tr style=\"text-align: right;\">\n",
              "      <th></th>\n",
              "      <th>numbr_likes</th>\n",
              "      <th>number_comments</th>\n",
              "    </tr>\n",
              "    <tr>\n",
              "      <th>profile_id</th>\n",
              "      <th></th>\n",
              "      <th></th>\n",
              "    </tr>\n",
              "  </thead>\n",
              "  <tbody>\n",
              "    <tr>\n",
              "      <th>9.813508e+06</th>\n",
              "      <td>0.296296</td>\n",
              "      <td>0.000000</td>\n",
              "    </tr>\n",
              "    <tr>\n",
              "      <th>1.996648e+08</th>\n",
              "      <td>7.666667</td>\n",
              "      <td>0.000000</td>\n",
              "    </tr>\n",
              "    <tr>\n",
              "      <th>2.181730e+08</th>\n",
              "      <td>0.400000</td>\n",
              "      <td>0.040000</td>\n",
              "    </tr>\n",
              "    <tr>\n",
              "      <th>2.855497e+08</th>\n",
              "      <td>3.921875</td>\n",
              "      <td>0.000000</td>\n",
              "    </tr>\n",
              "    <tr>\n",
              "      <th>1.087614e+09</th>\n",
              "      <td>2.026316</td>\n",
              "      <td>0.184211</td>\n",
              "    </tr>\n",
              "    <tr>\n",
              "      <th>1.273455e+09</th>\n",
              "      <td>2.960000</td>\n",
              "      <td>0.040000</td>\n",
              "    </tr>\n",
              "    <tr>\n",
              "      <th>1.603890e+09</th>\n",
              "      <td>6.477612</td>\n",
              "      <td>0.044776</td>\n",
              "    </tr>\n",
              "    <tr>\n",
              "      <th>1.607309e+09</th>\n",
              "      <td>1.540541</td>\n",
              "      <td>0.000000</td>\n",
              "    </tr>\n",
              "    <tr>\n",
              "      <th>8.563367e+09</th>\n",
              "      <td>0.000000</td>\n",
              "      <td>0.000000</td>\n",
              "    </tr>\n",
              "  </tbody>\n",
              "</table>\n",
              "</div>"
            ],
            "text/plain": [
              "              numbr_likes  number_comments\n",
              "profile_id                                \n",
              "9.813508e+06     0.296296         0.000000\n",
              "1.996648e+08     7.666667         0.000000\n",
              "2.181730e+08     0.400000         0.040000\n",
              "2.855497e+08     3.921875         0.000000\n",
              "1.087614e+09     2.026316         0.184211\n",
              "1.273455e+09     2.960000         0.040000\n",
              "1.603890e+09     6.477612         0.044776\n",
              "1.607309e+09     1.540541         0.000000\n",
              "8.563367e+09     0.000000         0.000000"
            ]
          },
          "execution_count": 136,
          "metadata": {},
          "output_type": "execute_result"
        }
      ],
      "source": [
        "top_ten_lc.groupby('profile_id').mean()"
      ]
    },
    {
      "cell_type": "markdown",
      "metadata": {
        "id": "IyvrfkP8-AGf"
      },
      "source": [
        "We obtained the average of likes and comments for the top ten profiles with more number of posts.\n",
        "For example the second of the panel has on average almost 8 number of likes.\n",
        "For all of the ten profiles the average of comments is less then 1."
      ]
    },
    {
      "cell_type": "markdown",
      "metadata": {
        "id": "ymTrNnXY-AGf"
      },
      "source": [
        "## d) Plot the number of posts that these top 10 profiles have sent on Instagram in the given interval in question RQ3. Interpret the resulting chart."
      ]
    },
    {
      "cell_type": "code",
      "execution_count": null,
      "metadata": {
        "id": "qk1ZSu3f-AGf",
        "outputId": "380b4504-3719-4457-b135-c8359953d2b6"
      },
      "outputs": [
        {
          "data": {
            "image/png": "[encoded data removed]",
            "text/plain": [
              "<Figure size 640x480 with 1 Axes>"
            ]
          },
          "metadata": {},
          "output_type": "display_data"
        }
      ],
      "source": [
        "input_intervals=['06:00:00','10:59:59','11:00:00','13:59:59','14:00:00','16:59:59','17:00:00','19:59:59','20:00:00','23:59:59','00:00:00','2:59:59','03:00:00','5:59:59']\n",
        "\n",
        "post_of_top_10, top_10_profile , top_10_post_number , post_time_of_top_10 , counter_10th_profile=top_n_profiles(df_profiles,10)\n",
        "\n",
        "#THE FUNCTION function_RQ3 NEEDS AS INPUT A DATAFRAME\n",
        "post_times_of_top_10=[]\n",
        "for cts in post_time_of_top_10:\n",
        "    post_times_of_top_10+=cts\n",
        "post_times_of_top_10=pd.DataFrame(post_times_of_top_10, columns = ['cts'])\n",
        "\n",
        "counter,num_intervals=function_RQ3(input_intervals,post_times_of_top_10)"
      ]
    },
    {
      "cell_type": "markdown",
      "metadata": {
        "id": "n45zN7mF-AGg"
      },
      "source": [
        "# RQ5 #"
      ]
    },
    {
      "cell_type": "code",
      "execution_count": null,
      "metadata": {
        "id": "-CEATUNomUvM"
      },
      "outputs": [],
      "source": [
        "cols_locations = ['id', 'name', 'city']\n",
        "cols_profiles = ['profile_id', 'followers', 'n_posts', 'profile_name']\n",
        "cols_posts = ['profile_id', 'location_id', 'post_type', 'numbr_likes', 'number_comments', 'cts']\n",
        "df_locations = pd.read_csv(\"instagram_locations.csv\", sep='\\t', usecols = cols_locations)   \n",
        "df_profiles = pd.read_csv(\"instagram_profiles.csv\", sep='\\t', usecols = cols_profiles)        \n",
        "df_posts = pd.read_csv(\"instagram_posts.csv\", sep='\\t', usecols=cols_posts)"
      ]
    },
    {
      "cell_type": "markdown",
      "metadata": {
        "id": "-qs4IT7upV7x"
      },
      "source": [
        "## a) Plot the top 10 most popular users in terms of followers and their number of posts. ##"
      ]
    },
    {
      "cell_type": "code",
      "execution_count": null,
      "metadata": {
        "colab": {
          "base_uri": "https://localhost:8080/"
        },
        "id": "I70cbDhsk9dw",
        "outputId": "33883754-54eb-454e-e0c3-adde0d633c6b"
      },
      "outputs": [
        {
          "name": "stdout",
          "output_type": "stream",
          "text": [
            "hm\n",
            "louisvuitton\n",
            "danbilzerian\n",
            "akshaykumar\n",
            "buzzfeedtasty\n",
            "victoriassecret\n",
            "andresiniesta8\n",
            "instagram\n",
            "nba\n",
            "princessyahrini\n"
          ]
        }
      ],
      "source": [
        "#extract top 10 ten users\n",
        "top_10 = df_profiles.sort_values(by = 'followers', ascending=False).head(10)\n",
        "top_10_profile_id = np.array(list(map(int, top_10['profile_id'].values)))\n",
        "print(*df_profiles[df_profiles['profile_id'].isin(top_10_profile_id)]['profile_name'].values, sep = '\\n' )"
      ]
    },
    {
      "cell_type": "code",
      "execution_count": null,
      "metadata": {
        "colab": {
          "base_uri": "https://localhost:8080/",
          "height": 353
        },
        "id": "VzJIz1FhiJ-S",
        "outputId": "3fab6288-d5cc-4220-b1a1-6b0b77127a2a"
      },
      "outputs": [
        {
          "data": {
            "text/plain": [
              "Text(0, 0.5, 'Posts')"
            ]
          },
          "execution_count": 7,
          "metadata": {},
          "output_type": "execute_result"
        },
        {
          "data": {
            "image/png": "[encoded data removed]",
            "text/plain": [
              "<Figure size 1500x500 with 1 Axes>"
            ]
          },
          "metadata": {},
          "output_type": "display_data"
        }
      ],
      "source": [
        "# we use the log to scale the x axis in order to make the plot more clear (there is a huge gap between the first three profiles and the other 7)\n",
        "x = np.log(top_10['followers'].values)\n",
        "y = top_10['n_posts'].values\n",
        "\n",
        "plt.figure(figsize=(15,5))\n",
        "plt.plot(x,y, 'o-')\n",
        "plt.xlabel('Followers(milions)')\n",
        "plt.ylabel('Posts')"
      ]
    },
    {
      "cell_type": "markdown",
      "metadata": {
        "id": "4MjJ8nG4td5X"
      },
      "source": [
        "Plot without the last two elements to better visualize the trend"
      ]
    },
    {
      "cell_type": "code",
      "execution_count": null,
      "metadata": {
        "colab": {
          "base_uri": "https://localhost:8080/",
          "height": 353
        },
        "id": "bHyGy7cuu_ex",
        "outputId": "c720c4ac-6e7c-4c6f-d891-d240471ce83b"
      },
      "outputs": [
        {
          "data": {
            "text/plain": [
              "Text(0, 0.5, 'Posts')"
            ]
          },
          "execution_count": 8,
          "metadata": {},
          "output_type": "execute_result"
        },
        {
          "data": {
            "image/png": "[encoded data removed]",
            "text/plain": [
              "<Figure size 1500x500 with 1 Axes>"
            ]
          },
          "metadata": {},
          "output_type": "display_data"
        }
      ],
      "source": [
        "x = top_10['followers'].values[2:]\n",
        "y = top_10['n_posts'].values[2:]\n",
        "\n",
        "plt.figure(figsize=(15,5))\n",
        "plt.plot(x,y, 'o-')\n",
        "plt.xlabel('Followers(milions)')\n",
        "plt.ylabel('Posts')"
      ]
    },
    {
      "cell_type": "markdown",
      "metadata": {
        "id": "PjgPilNJv0jC"
      },
      "source": [
        "It seems that there is some correlation between followers and posts, at least for these top profiles. The more the followers the more the posts, however this is not always the case, because the number of posts is something strongly dependent on the type of profile."
      ]
    },
    {
      "cell_type": "markdown",
      "metadata": {
        "id": "H5_YWEzKpZc9"
      },
      "source": [
        "## b) Who is the most influential user? ##"
      ]
    },
    {
      "cell_type": "code",
      "execution_count": null,
      "metadata": {
        "colab": {
          "base_uri": "https://localhost:8080/"
        },
        "id": "rvurhzr_iKYu",
        "outputId": "7174c067-70a1-4733-ea36-47de9a7518ad"
      },
      "outputs": [
        {
          "name": "stdout",
          "output_type": "stream",
          "text": [
            "['instagram']\n"
          ]
        }
      ],
      "source": [
        "print(top_10.head(1)['profile_name'].values)"
      ]
    },
    {
      "cell_type": "markdown",
      "metadata": {
        "id": "SU78TGeQxUno"
      },
      "source": [
        "Not surprisingly the most influential user is... the instagram official account :)"
      ]
    },
    {
      "cell_type": "markdown",
      "metadata": {
        "id": "FBle6EKf09_T"
      },
      "source": [
        "## c) Have they posted anything with tagged locations? Extract the most frequent areas on their posts and plot the number of times each city has been visited. ##"
      ]
    },
    {
      "cell_type": "code",
      "execution_count": null,
      "metadata": {
        "id": "5ZQmmh7UTNk-"
      },
      "outputs": [],
      "source": [
        "# select all the locations in the posts of the top 10 users\n",
        "top_10_locations = df_posts[df_posts['profile_id'].isin(top_10_profile_id)].values[:,1] # location id\n",
        "# remove NaN\n",
        "top_10_locations = top_10_locations[~pd.isnull(top_10_locations)] "
      ]
    },
    {
      "cell_type": "code",
      "execution_count": null,
      "metadata": {
        "colab": {
          "base_uri": "https://localhost:8080/"
        },
        "id": "hBJPTvoLUCgf",
        "outputId": "8091c3a7-86af-4180-dcc8-e93f6a8c2b63"
      },
      "outputs": [
        {
          "data": {
            "text/plain": [
              "Victoria's Secret                                       4\n",
              "InfoCision Stadium–Summa Field                          1\n",
              "Long Chim Singapore                                     1\n",
              "Hadleigh Park                                           1\n",
              "Staten Island Boat Graveyard                            1\n",
              "Brodie Castle                                           1\n",
              "Hollywood United Methodist Church - Hollywood Campus    1\n",
              "Exuma, The Bahamas                                      1\n",
              "Universiteitstheater Amsterdam                          1\n",
              "Beany Green Coffee                                      1\n",
              "Name: name, dtype: int64"
            ]
          },
          "execution_count": 11,
          "metadata": {},
          "output_type": "execute_result"
        }
      ],
      "source": [
        "#extract frequences\n",
        "areas_frequences = df_locations[df_locations['id'].isin(top_10_locations)]['name'].dropna().value_counts()\n",
        "areas_frequences.head(10)"
      ]
    },
    {
      "cell_type": "markdown",
      "metadata": {
        "id": "_T45r-Gpyg21"
      },
      "source": [
        "There is no particular frequent areas, as we can see all the places have frequence 1, except from Victoria's Secret, but this is due to the fact that one of the top 10 profile is indeed Victoria's Secret."
      ]
    },
    {
      "cell_type": "code",
      "execution_count": null,
      "metadata": {
        "colab": {
          "base_uri": "https://localhost:8080/",
          "height": 322
        },
        "id": "a4q5OHl8Ukyk",
        "outputId": "b7afcb55-a710-4304-c628-89ca8d422d81"
      },
      "outputs": [
        {
          "data": {
            "text/plain": [
              "([0, 1, 2, 3, 4, 5, 6, 7],\n",
              " [Text(0, 0, 'New York'),\n",
              "  Text(1, 0, 'Singapore'),\n",
              "  Text(2, 0, 'Los Angeles'),\n",
              "  Text(3, 0, 'London'),\n",
              "  Text(4, 0, 'Houston'),\n",
              "  Text(5, 0, 'Amsterdam'),\n",
              "  Text(6, 0, 'Las Vegas'),\n",
              "  Text(7, 0, 'Shanghai')])"
            ]
          },
          "execution_count": 12,
          "metadata": {},
          "output_type": "execute_result"
        },
        {
          "data": {
            "image/png": "[encoded data removed]",
            "text/plain": [
              "<Figure size 640x480 with 1 Axes>"
            ]
          },
          "metadata": {},
          "output_type": "display_data"
        }
      ],
      "source": [
        "import re\n",
        "top_10_cities = df_locations[df_locations['id'].isin(top_10_locations)]['city'].dropna()  # RISOLVERE PROBLEMA DELLA PERDITA 105 -> 92\n",
        "cities = top_10_cities.value_counts().index\n",
        "counts = top_10_cities.value_counts().values\n",
        "cities = [re.match(r'^[\\s\\w]*', el).group(0) for el in cities]\n",
        "#collapse cities with count=1 into 'others'\n",
        "counts = counts[counts != 1]\n",
        "#cities = cities[: len(counts)]\n",
        "plt.bar(cities[: len(counts)], counts, width=0.5)\n",
        "plt.xticks(rotation=45)"
      ]
    },
    {
      "cell_type": "markdown",
      "metadata": {
        "id": "xtwX30fAF1Tl"
      },
      "source": [
        "This are the most frequent cities. We see that New York is on top (as always). \n",
        "There are then other cities that show up in the posts but they appear just once, here's are a bunch of them:"
      ]
    },
    {
      "cell_type": "code",
      "execution_count": null,
      "metadata": {
        "colab": {
          "base_uri": "https://localhost:8080/"
        },
        "id": "DrlO_JQPGSv7",
        "outputId": "757a809b-9d05-496c-a7d7-dbb522324b3a"
      },
      "outputs": [
        {
          "name": "stdout",
          "output_type": "stream",
          "text": [
            "Chawton\n",
            "Xiandu\n",
            "Kirkkonummi\n",
            "Krian\n",
            "Akron\n",
            "McLean\n",
            "Hadleigh\n",
            "San Francisco\n",
            "Memphis\n",
            "Pôrto São José\n"
          ]
        }
      ],
      "source": [
        "print(*cities[len(counts):len(counts)+10], sep='\\n')"
      ]
    },
    {
      "cell_type": "markdown",
      "metadata": {
        "id": "o1sv4vE4ye31"
      },
      "source": [
        "## d) how many pictures-only posts have they published? How many reels? (only videos) and how many with both contents? Provide the number as percentages and interpret those figures. ##"
      ]
    },
    {
      "cell_type": "code",
      "execution_count": null,
      "metadata": {
        "colab": {
          "base_uri": "https://localhost:8080/",
          "height": 191
        },
        "id": "JhHG_DVGW4aI",
        "outputId": "71024ad8-1802-4843-82ce-29ac30eddbba"
      },
      "outputs": [
        {
          "data": {
            "text/plain": [
              "<AxesSubplot: title={'center': 'All users'}>"
            ]
          },
          "execution_count": 14,
          "metadata": {},
          "output_type": "execute_result"
        },
        {
          "data": {
            "image/png": "[encoded data removed]",
            "text/plain": [
              "<Figure size 500x500 with 2 Axes>"
            ]
          },
          "metadata": {},
          "output_type": "display_data"
        }
      ],
      "source": [
        "#top 10 users\n",
        "df_posts_restricted = df_posts[df_posts['profile_id'].isin(top_10_profile_id)]\n",
        "pic_vid_both_counts = df_posts_restricted['post_type'].value_counts()\n",
        "display = pd.DataFrame({'': [pic_vid_both_counts.values[0], pic_vid_both_counts.values[1]]},index = ['Pictures','Videos'])\n",
        "#display.plot.pie(y='', figsize=(5,5), title='Top users', autopct='%1.1f%%')\n",
        "#all users\n",
        "pic_vid_both_counts2 = df_posts['post_type'].value_counts()\n",
        "display_all = pd.DataFrame({'': [pic_vid_both_counts2.values[0], pic_vid_both_counts2.values[1]]},index = ['Pictures','Videos'])\n",
        "#display_all.plot.pie(y='', figsize=(5,5), title='Top users', autopct='%1.1f%%')\n",
        "\n",
        "fig, axes = plt.subplots(nrows=1, ncols=2, figsize=(10,15))\n",
        "display.plot.pie(y='', figsize=(10,10), title='Top users', autopct='%1.1f%%', ax=axes[0])\n",
        "display_all.plot.pie(y='', figsize=(5,5), title='All users', autopct='%1.1f%%', ax=axes[1])\n",
        "\n"
      ]
    },
    {
      "cell_type": "markdown",
      "metadata": {
        "id": "m53dCKKv75gg"
      },
      "source": [
        "We omitted the post with both contents because it is 0% for Top users and 0.1% for All users. \\\\\n",
        "As we can expect the vast majority of posts are pictures, and it's because pictures are easier to post, catchier and more visual impacting. \n",
        "There is a discrepancy though between top and all users, indeed top users tend to post more videos. This can be explained as follows: in the years the dataset was collected the reels were not a popular content type as pictures (today those percentages would be much less unbalanced) so it is evident that top users tend to experiment more on new features available on the platform than the average user."
      ]
    },
    {
      "cell_type": "markdown",
      "metadata": {
        "id": "R2y1T_us-AGm"
      },
      "source": [
        "## e) How many \"likes\" and comments did posts with only pictures receive? How about videos and mixed posts? Try to provide the average numbers and confront them with their followers amount, explaining what you can say from that comparison. ## "
      ]
    },
    {
      "cell_type": "code",
      "execution_count": null,
      "metadata": {
        "colab": {
          "base_uri": "https://localhost:8080/",
          "height": 112
        },
        "id": "VzXasQ6eDiMW",
        "outputId": "b12b61f5-79ca-4984-d3a1-d39d09dd0c58"
      },
      "outputs": [
        {
          "data": {
            "text/html": [
              "<div>\n",
              "<style scoped>\n",
              "    .dataframe tbody tr th:only-of-type {\n",
              "        vertical-align: middle;\n",
              "    }\n",
              "\n",
              "    .dataframe tbody tr th {\n",
              "        vertical-align: top;\n",
              "    }\n",
              "\n",
              "    .dataframe thead th {\n",
              "        text-align: right;\n",
              "    }\n",
              "</style>\n",
              "<table border=\"1\" class=\"dataframe\">\n",
              "  <thead>\n",
              "    <tr style=\"text-align: right;\">\n",
              "      <th></th>\n",
              "      <th></th>\n",
              "      <th>likes</th>\n",
              "      <th>comments</th>\n",
              "    </tr>\n",
              "  </thead>\n",
              "  <tbody>\n",
              "    <tr>\n",
              "      <th>0</th>\n",
              "      <td>pictures</td>\n",
              "      <td>541294</td>\n",
              "      <td>3882</td>\n",
              "    </tr>\n",
              "    <tr>\n",
              "      <th>1</th>\n",
              "      <td>videos</td>\n",
              "      <td>266524</td>\n",
              "      <td>2019</td>\n",
              "    </tr>\n",
              "  </tbody>\n",
              "</table>\n",
              "</div>"
            ],
            "text/plain": [
              "              likes  comments\n",
              "0  pictures  541294      3882\n",
              "1    videos  266524      2019"
            ]
          },
          "execution_count": 15,
          "metadata": {},
          "output_type": "execute_result"
        }
      ],
      "source": [
        "pictures_posts = df_posts_restricted[df_posts_restricted['post_type'] == 1][['numbr_likes', 'number_comments']]\n",
        "video_posts = df_posts_restricted[df_posts_restricted['post_type'] == 2][['numbr_likes', 'number_comments']]\n",
        "\n",
        "display = pd.DataFrame({'' : ['pictures', 'videos'],\n",
        "                       'likes':[int(pictures_posts['numbr_likes'].mean()), int(video_posts['numbr_likes'].mean())],\n",
        "                       'comments':[int(pictures_posts['number_comments'].mean()), int(video_posts['number_comments'].mean())]})\n",
        "\n",
        "display.head()"
      ]
    },
    {
      "cell_type": "markdown",
      "metadata": {
        "id": "Ap7YPKfXfbgQ"
      },
      "source": [
        "It is clear that pictures are more appriciated by the community, as we said pictures have stronger visual impact than videos. \\\\\n",
        "Let's compare now these numbers with the followers mean of these users."
      ]
    },
    {
      "cell_type": "code",
      "execution_count": null,
      "metadata": {
        "colab": {
          "base_uri": "https://localhost:8080/"
        },
        "id": "Ppiz-BWUgEpn",
        "outputId": "a64a9afc-b036-43de-e81f-dfd100049765"
      },
      "outputs": [
        {
          "name": "stdout",
          "output_type": "stream",
          "text": [
            "58749283\n"
          ]
        }
      ],
      "source": [
        "print(int(df_profiles[df_profiles['profile_id'].isin(top_10_profile_id)]['followers'].mean()))"
      ]
    },
    {
      "cell_type": "markdown",
      "metadata": {
        "id": "AWX3ZkEKhzZ4"
      },
      "source": [
        "This is a very common thing on almost every platform on the web like Instagram, Facebook, Youtube ecc. Only a very small percentage of followers are actually active and give feedback to the profile contents."
      ]
    },
    {
      "cell_type": "markdown",
      "metadata": {
        "id": "ElUePQvi-AGn"
      },
      "source": [
        "# RQ6 #"
      ]
    },
    {
      "cell_type": "markdown",
      "source": [
        "We do the two points of RQ6 in a reverse order (for issues of coding convenience)"
      ],
      "metadata": {
        "id": "zVvvokkyBmB5"
      }
    },
    {
      "cell_type": "markdown",
      "metadata": {
        "id": "Rd139UnbNqN8"
      },
      "source": [
        "## b) Using the function you previously coded, plot the time intervals with the highest average number of “likes” and the ones with the highest average number of comments on posts.##"
      ]
    },
    {
      "cell_type": "code",
      "execution_count": null,
      "metadata": {
        "colab": {
          "base_uri": "https://localhost:8080/",
          "height": 472
        },
        "id": "6zaIxz9prFhD",
        "outputId": "13657d9d-ed48-42d5-a50b-48668c668922"
      },
      "outputs": [
        {
          "name": "stderr",
          "output_type": "stream",
          "text": [
            "C:\\Users\\nicol\\AppData\\Local\\Temp\\ipykernel_14500\\297407005.py:7: FutureWarning: The default value of numeric_only in DataFrameGroupBy.mean is deprecated. In a future version, numeric_only will default to False. Either specify numeric_only or select only columns which should be valid for the function.\n",
            "  beginning_of_the_day).total_seconds() if isinstance(x, str) else x), ranges)).mean()\n"
          ]
        },
        {
          "data": {
            "text/plain": [
              "[Text(0, 0, '00-03'),\n",
              " Text(1, 0, '03-05'),\n",
              " Text(2, 0, '05-11'),\n",
              " Text(3, 0, '11-14'),\n",
              " Text(4, 0, '14-17'),\n",
              " Text(5, 0, '17-20'),\n",
              " Text(6, 0, '20-00')]"
            ]
          },
          "execution_count": 17,
          "metadata": {},
          "output_type": "execute_result"
        },
        {
          "data": {
            "image/png": "[encoded data removed]",
            "text/plain": [
              "<Figure size 1500x500 with 2 Axes>"
            ]
          },
          "metadata": {},
          "output_type": "display_data"
        }
      ],
      "source": [
        "#convert date time into seconds (from 00:00:00) for efficiency\n",
        "from datetime import datetime\n",
        "beginning_of_the_day = datetime.strptime('00:00:00', '%H:%M:%S')\n",
        "ranges = ['00:00:00' ,'02:59:59', '05:59:59', '10:59:59', '13:59:59', '16:59:59', '19:59:59', '23:59:59']\n",
        "ranges = [(datetime.strptime(el, '%H:%M:%S') - beginning_of_the_day).total_seconds() for el in ranges]\n",
        "frequences = df_posts.groupby(pd.cut(df_posts.cts.apply(lambda x: (datetime.strptime(x[11:], '%H:%M:%S.000') - \n",
        "                                                                   beginning_of_the_day).total_seconds() if isinstance(x, str) else x), ranges)).mean()\n",
        "fig, axes = plt.subplots(nrows=1, ncols=2, figsize=(15,5))\n",
        "frequences['numbr_likes'].plot.bar(ax=axes[0], rot=45).set_xticklabels(['00-03','03-05','05-11','11-14','14-17','17-20','20-00'])\n",
        "frequences['number_comments'].plot.bar(ax=axes[1], rot=45).set_xticklabels(['00-03','03-05','05-11','11-14','14-17','17-20','20-00'])"
      ]
    },
    {
      "cell_type": "markdown",
      "source": [
        "The interval in which users are more active is of course 17-20. That are the hours people usually have some free time, they just go back home from a stressful day of work and the the first thing that comes to their mind is sitting on the couch and scrolling instagram."
      ],
      "metadata": {
        "id": "elIp5oV1-m8V"
      }
    },
    {
      "cell_type": "markdown",
      "metadata": {
        "id": "rLbph5Ha-AGo"
      },
      "source": [
        "## a) What is the average time (days and minutes) a user lets pass before publishing another post? Plot the top 3 users that publish posts more frequently (calculate the average time that passes between posts), including their amount of followers and following. Provide insights from that chart. ##"
      ]
    },
    {
      "cell_type": "code",
      "execution_count": null,
      "metadata": {
        "id": "5lKqogpm7rgy"
      },
      "outputs": [],
      "source": [
        "#convert date time into seconds for efficiency\n",
        "from datetime import datetime\n",
        "fmt = '%Y-%m-%d %H:%M:%S.000'\n",
        "df_posts.dropna(inplace=True)\n",
        "min_date = df_posts['cts'].min()\n",
        "reference_date = datetime.strptime(min_date, fmt)\n",
        "df_posts['cts'] = df_posts['cts'].apply(lambda x: (datetime.strptime(x, fmt) - reference_date).total_seconds())"
      ]
    },
    {
      "cell_type": "code",
      "execution_count": null,
      "metadata": {
        "colab": {
          "base_uri": "https://localhost:8080/"
        },
        "id": "pmnKfulZTxs6",
        "outputId": "e404081a-09b1-49f8-c646-bf6a18d76f22"
      },
      "outputs": [
        {
          "name": "stdout",
          "output_type": "stream",
          "text": [
            "profile_id\n",
            "1.127936e+07    0.333333\n",
            "1.929792e+09    0.500000\n",
            "8.920183e+09    0.500000\n",
            "dtype: float64\n"
          ]
        }
      ],
      "source": [
        "# we observe that when computing the mean for a specific user all terms cancel out except from the first and the last ones, so we use this to speed up the code\n",
        "means = (df_posts.groupby(['profile_id']).max()['cts'] - \n",
        "         df_posts.groupby(['profile_id']).min()['cts'])/df_posts.groupby(['profile_id']).count()['numbr_likes'].apply(lambda x : x - 1 if x >= 2 else x) \n",
        "most_frequent_profile = means[means != 0].sort_values().head(3)\n",
        "print(most_frequent_profile)"
      ]
    },
    {
      "cell_type": "markdown",
      "metadata": {
        "id": "7OHGgNoZ1fTz"
      },
      "source": [
        "The top three have a mean time less than one second which can be strange. If we see in details we notice that they have posted very few posts (two or three) in just one second (which is clearly not possible, at least not considering bugs of the instagram platform or data collections error)."
      ]
    },
    {
      "cell_type": "code",
      "execution_count": null,
      "metadata": {
        "colab": {
          "base_uri": "https://localhost:8080/"
        },
        "id": "xp8epclPwBzw",
        "outputId": "76a0d101-91e6-453d-beca-24797326d63a"
      },
      "outputs": [
        {
          "name": "stdout",
          "output_type": "stream",
          "text": [
            "Empty DataFrame\n",
            "Columns: [profile_id, profile_name, followers, n_posts]\n",
            "Index: []\n"
          ]
        }
      ],
      "source": [
        "print(df_profiles[df_profiles['profile_id'].isin(most_frequent_profile.index)])"
      ]
    },
    {
      "cell_type": "markdown",
      "source": [
        "They are not present in the profile dataset."
      ],
      "metadata": {
        "id": "SU4MGRGYBXeS"
      }
    },
    {
      "cell_type": "code",
      "execution_count": null,
      "metadata": {
        "colab": {
          "base_uri": "https://localhost:8080/"
        },
        "id": "Z7CGZQ2MlobK",
        "outputId": "5f2f9f8d-04ac-4538-c294-c7449d741fcc"
      },
      "outputs": [
        {
          "name": "stdout",
          "output_type": "stream",
          "text": [
            "2413463 days, 1:39:26.052653\n"
          ]
        }
      ],
      "source": [
        "from datetime import timedelta\n",
        "overall_mean = (df_posts.groupby(['profile_id']).max()['cts'] - df_posts.groupby(['profile_id']).min()['cts']).sum()/df_posts.groupby(['profile_id']).count()['location_id'].sum()\n",
        "print(timedelta(overall_mean))"
      ]
    },
    {
      "cell_type": "code",
      "execution_count": null,
      "metadata": {
        "colab": {
          "base_uri": "https://localhost:8080/",
          "height": 206
        },
        "id": "SuK-ny9xTeLV",
        "outputId": "4d0610b2-3e1e-4029-9723-032aeb6c95d0"
      },
      "outputs": [
        {
          "data": {
            "text/html": [
              "<div>\n",
              "<style scoped>\n",
              "    .dataframe tbody tr th:only-of-type {\n",
              "        vertical-align: middle;\n",
              "    }\n",
              "\n",
              "    .dataframe tbody tr th {\n",
              "        vertical-align: top;\n",
              "    }\n",
              "\n",
              "    .dataframe thead th {\n",
              "        text-align: right;\n",
              "    }\n",
              "</style>\n",
              "<table border=\"1\" class=\"dataframe\">\n",
              "  <thead>\n",
              "    <tr style=\"text-align: right;\">\n",
              "      <th></th>\n",
              "      <th>profile_id</th>\n",
              "      <th>profile_name</th>\n",
              "      <th>followers</th>\n",
              "      <th>n_posts</th>\n",
              "    </tr>\n",
              "  </thead>\n",
              "  <tbody>\n",
              "    <tr>\n",
              "      <th>238134</th>\n",
              "      <td>232070804.0</td>\n",
              "      <td>cozeteg</td>\n",
              "      <td>389573.0</td>\n",
              "      <td>5761.0</td>\n",
              "    </tr>\n",
              "    <tr>\n",
              "      <th>1319263</th>\n",
              "      <td>222580681.0</td>\n",
              "      <td>beltenvy</td>\n",
              "      <td>432.0</td>\n",
              "      <td>490.0</td>\n",
              "    </tr>\n",
              "    <tr>\n",
              "      <th>2619235</th>\n",
              "      <td>335637382.0</td>\n",
              "      <td>ernestobarajasoficial</td>\n",
              "      <td>323186.0</td>\n",
              "      <td>2892.0</td>\n",
              "    </tr>\n",
              "    <tr>\n",
              "      <th>3841218</th>\n",
              "      <td>222026992.0</td>\n",
              "      <td>ekadarville</td>\n",
              "      <td>72170.0</td>\n",
              "      <td>419.0</td>\n",
              "    </tr>\n",
              "    <tr>\n",
              "      <th>4031324</th>\n",
              "      <td>8128232.0</td>\n",
              "      <td>melisaaugusto</td>\n",
              "      <td>957.0</td>\n",
              "      <td>1578.0</td>\n",
              "    </tr>\n",
              "  </tbody>\n",
              "</table>\n",
              "</div>"
            ],
            "text/plain": [
              "          profile_id           profile_name  followers  n_posts\n",
              "238134   232070804.0                cozeteg   389573.0   5761.0\n",
              "1319263  222580681.0               beltenvy      432.0    490.0\n",
              "2619235  335637382.0  ernestobarajasoficial   323186.0   2892.0\n",
              "3841218  222026992.0            ekadarville    72170.0    419.0\n",
              "4031324    8128232.0          melisaaugusto      957.0   1578.0"
            ]
          },
          "execution_count": 22,
          "metadata": {},
          "output_type": "execute_result"
        }
      ],
      "source": [
        "l = [42361942, 8128232, 222026992, 1518481370, 230617661, 355470702, 222580681, 273342922, 335637382, 232070804]\n",
        "df_profiles[df_profiles['profile_id'].isin(l)]"
      ]
    },
    {
      "cell_type": "markdown",
      "metadata": {
        "id": "N7-Frjjh-Tys"
      },
      "source": [
        "So on average the time that pass between two consecutive posts of the same user is 1 hour and 40 minutes."
      ]
    },
    {
      "cell_type": "code",
      "execution_count": null,
      "metadata": {
        "id": "WzYfXW95-AGq"
      },
      "outputs": [],
      "source": [
        "del df_profiles\n",
        "del df_posts\n",
        "del df_locations"
      ]
    },
    {
      "cell_type": "markdown",
      "metadata": {
        "id": "66ee86f0-5e69-4f9a-9a17-f85ce88c9e16"
      },
      "source": [
        "# RQ7 #"
      ]
    },
    {
      "cell_type": "markdown",
      "metadata": {
        "id": "5eb0e192-4d6e-4d36-984e-1a6276422a17"
      },
      "source": [
        "## a) What's the probability that a post receives more than 20% \"likes\" of the number of followers a user has? ##"
      ]
    },
    {
      "cell_type": "code",
      "execution_count": null,
      "metadata": {
        "id": "Lw9Trw4TqWiv"
      },
      "outputs": [],
      "source": [
        "cols_profiles = ['profile_id', 'followers', 'n_posts', 'profile_name']\n",
        "cols_posts = ['profile_id', 'location_id', 'numbr_likes', 'number_comments', 'cts']\n",
        "df_profiles = pd.read_csv(\"instagram_profiles.csv\", sep='\\t', usecols = cols_profiles)        \n",
        "df_posts = pd.read_csv(\"instagram_posts.csv\", sep='\\t', usecols=cols_posts)"
      ]
    },
    {
      "cell_type": "code",
      "execution_count": null,
      "metadata": {
        "id": "c5116c04-3bd4-46c1-b66f-7cc24e9988d3"
      },
      "outputs": [],
      "source": [
        "data_profiles2 = df_profiles[['profile_id', 'followers']] # we selected only two columns from profiles that are profile_id\n",
        "                                                            # and followers"
      ]
    },
    {
      "cell_type": "code",
      "execution_count": null,
      "metadata": {
        "id": "2631aa3e-3be3-40b8-af45-37d2d14c3153"
      },
      "outputs": [],
      "source": [
        "data_profiles2 = data_profiles2.dropna(axis = 0, how = 'any') # we remove all the rows of the dataset that show a missing value\n",
        "                                                              # of profile_id or followers"
      ]
    },
    {
      "cell_type": "code",
      "execution_count": null,
      "metadata": {
        "id": "440c4847-482c-4b2b-9d0f-126cd08444fb"
      },
      "outputs": [],
      "source": [
        "data_posts2 = df_posts[['profile_id', 'numbr_likes']]  # we selected only two columns from posts that are profile_id\n",
        "                                                         # and numbr_likes"
      ]
    },
    {
      "cell_type": "code",
      "execution_count": null,
      "metadata": {
        "id": "92d3e250-41fd-4175-a0b2-7efba64dc947"
      },
      "outputs": [],
      "source": [
        "data_posts2 = data_posts2.dropna(axis = 0, how = 'any')  # we remove all the rows of the dataset that show a missing value\n",
        "                                                         # of profile_id or numbr_likes"
      ]
    },
    {
      "cell_type": "code",
      "execution_count": null,
      "metadata": {
        "colab": {
          "base_uri": "https://localhost:8080/"
        },
        "id": "7b23f79f-b121-4b7d-adbd-1061421d1566",
        "outputId": "3e8f39ce-689d-4060-beed-ba738876d8d0"
      },
      "outputs": [
        {
          "name": "stdout",
          "output_type": "stream",
          "text": [
            "(40126905, 2)\n",
            "(3447698, 2)\n"
          ]
        }
      ],
      "source": [
        "print(data_posts2.shape)\n",
        "print(data_profiles2.shape)"
      ]
    },
    {
      "cell_type": "code",
      "execution_count": null,
      "metadata": {
        "id": "49349fcd-1770-45d1-a0b0-2545cf886dce"
      },
      "outputs": [],
      "source": [
        "merge = pd.merge(data_profiles2, data_posts2, on = \"profile_id\" )  # we do the merge between the two set on the variable profile_id\n",
        "                                                                   # because we want to use only the profiles that have a match in both of dataset"
      ]
    },
    {
      "cell_type": "code",
      "execution_count": null,
      "metadata": {
        "colab": {
          "base_uri": "https://localhost:8080/"
        },
        "id": "LEnoZGhhnlwQ",
        "outputId": "8a409ccb-8ad8-42e9-cc2f-3900ed5b8d76"
      },
      "outputs": [
        {
          "name": "stdout",
          "output_type": "stream",
          "text": [
            "0.15716325833178058\n"
          ]
        }
      ],
      "source": [
        "prob = (merge['numbr_likes'].gt(merge['followers'].apply(lambda x: x*.2))).sum()/merge.shape[0]\n",
        "print(prob)"
      ]
    },
    {
      "cell_type": "markdown",
      "metadata": {
        "id": "3065c69e-eec8-48a1-a4ef-458b6abb3c69"
      },
      "source": [
        "We calculated the number of posts that receives more than 0.20 % likes of the number of followers and we divided it by the total number of posts to get the probability"
      ]
    },
    {
      "cell_type": "markdown",
      "metadata": {
        "id": "49a82475-cc56-4810-8caf-f3a117cc6bb3"
      },
      "source": [
        "The probability is almost 0.1572 very low, but it makes sense because people, in general, have more followers than the number of likes of every post."
      ]
    },
    {
      "cell_type": "code",
      "execution_count": null,
      "metadata": {
        "id": "ogsBsQeV-AGt"
      },
      "outputs": [],
      "source": [
        "del merge"
      ]
    },
    {
      "cell_type": "markdown",
      "metadata": {
        "id": "b6e1b39a-695b-4c47-a287-ee435726c187"
      },
      "source": [
        "## b) Do users usually return to locations? Extract the probability that a user returns to a site after having posted it in the past. Does that probability make sense to you? Explain why or why not. ##"
      ]
    },
    {
      "cell_type": "code",
      "execution_count": null,
      "metadata": {
        "id": "1015c205-e0aa-4c3a-90e4-6a8df7fe4b56"
      },
      "outputs": [],
      "source": [
        "data_posts_loc = df_posts[['profile_id','location_id']].dropna(axis = 0, how = 'any')  \n",
        "# # we selected only two columns from posts that are profile_id\n",
        "# # and location_id\n"
      ]
    },
    {
      "cell_type": "code",
      "execution_count": null,
      "metadata": {
        "id": "fa1cc6bf-0063-4266-9c1d-89da9003728f"
      },
      "outputs": [],
      "source": [
        "s = np.sum((data_posts_loc.dropna(axis = 0, how = 'any').groupby(['profile_id','location_id']).size() > 1))\n",
        "# we calculated the occurrences of location that are repeated more than one for every profile that means count 1 every time a \n",
        "# profile publishes a post in a previously posted location."
      ]
    },
    {
      "cell_type": "code",
      "execution_count": null,
      "metadata": {
        "id": "486060b9-9140-4e3c-9808-602157e1b29d",
        "outputId": "8a2c33f4-45ac-42ff-b152-44985b958cff"
      },
      "outputs": [
        {
          "name": "stdout",
          "output_type": "stream",
          "text": [
            "0.10347941689544352\n"
          ]
        }
      ],
      "source": [
        "prob2 = s/data_posts_loc.shape[0]\n",
        "print(prob2)\n",
        "del data_posts_loc"
      ]
    },
    {
      "cell_type": "markdown",
      "metadata": {
        "id": "3a226e46-81b8-47d6-9657-7ab59fcf0dbb"
      },
      "source": [
        "The probability is very low, it is almost 0.1035. I think that this probability doesn't make sense if we consider that a person, who inserted a location, wasn't necessarily in that location in reality. On instagram, people uses location also to obtain more visualizations and likes."
      ]
    },
    {
      "cell_type": "markdown",
      "metadata": {
        "id": "3e44a596-d43c-45dc-ab84-24a72ddce488"
      },
      "source": [
        "# RQ8 #\n",
        "\n"
      ]
    },
    {
      "cell_type": "markdown",
      "metadata": {
        "id": "58e2e3db-daa1-4dad-a950-419627398e51"
      },
      "source": [
        "## a) Does more likes also mean more comments? ##"
      ]
    },
    {
      "cell_type": "markdown",
      "metadata": {
        "id": "8eead07f-efe8-40a4-9615-dfa94faa6fc8"
      },
      "source": [
        "To see easily the relationship between likes and comments we compute two different sized random samples of data_posts to comply approximately the behaviour of the entire dataset. Obviously, bigger is the sample size, greater is the proximity to the entire dataset. To obtain a good visualization we use two reandom samples of size 50000 and 100000."
      ]
    },
    {
      "cell_type": "code",
      "execution_count": null,
      "metadata": {
        "id": "1c74e49b-f096-4bf8-9c5c-6a17fe0ab16e"
      },
      "outputs": [],
      "source": [
        "new_data = df_posts.sample(n = 50000, random_state = 10)\n",
        "new_data2 = df_posts.sample(n = 100000, random_state = 10)"
      ]
    },
    {
      "cell_type": "code",
      "execution_count": null,
      "metadata": {
        "colab": {
          "base_uri": "https://localhost:8080/",
          "height": 284
        },
        "id": "daee1c5c-4307-46cf-b9bb-c82e2bdd291d",
        "outputId": "a6c14ba7-22c6-463a-f8ef-e31a59191e11"
      },
      "outputs": [
        {
          "data": {
            "image/png": "[encoded data removed]",
            "text/plain": [
              "<Figure size 640x480 with 1 Axes>"
            ]
          },
          "metadata": {},
          "output_type": "display_data"
        }
      ],
      "source": [
        "sns.regplot(x=new_data.number_comments, y=new_data.numbr_likes, line_kws={\"color\":\"r\",\"alpha\":0.7,\"lw\":5})\n",
        "plt.xlim(0,60)\n",
        "plt.ylim(0,1000)\n",
        "plt.show()"
      ]
    },
    {
      "cell_type": "code",
      "execution_count": null,
      "metadata": {
        "colab": {
          "base_uri": "https://localhost:8080/",
          "height": 284
        },
        "id": "c68f5b00-27c1-49f0-a73a-8dcdd902b8fe",
        "outputId": "f4c42f3f-97ab-4ab0-80d4-ed3a9673022b"
      },
      "outputs": [
        {
          "data": {
            "image/png": "[encoded data removed]",
            "text/plain": [
              "<Figure size 640x480 with 1 Axes>"
            ]
          },
          "metadata": {},
          "output_type": "display_data"
        }
      ],
      "source": [
        "sns.regplot(x=new_data2.number_comments, y=new_data2.numbr_likes, line_kws={\"color\":\"r\",\"alpha\":0.7,\"lw\":5})\n",
        "plt.xlim(0,130)\n",
        "plt.ylim(0,1800)\n",
        "plt.show()"
      ]
    },
    {
      "cell_type": "markdown",
      "metadata": {
        "id": "7288dc0a-4271-4ae5-8f60-e64e86f9ad07"
      },
      "source": [
        "As said previously, to obtain a better visualization, we computed a random sample of size 10000 from the population. This sample must have the more or less the same characteristics of the total population. The scatterplot shows the relationship between the number of comments and the number of likes and, as can be seen, there is a positive relationship. To show the positive linear relationship even better, we have constructed a regression line. The line has a positive angular coefficient, which shows that as comments increase, on average, the number of likes also increases. We can also compute the index correlation to show numerically the intensity of this linear relationship, but we can do it directly on the entire dataset.\n"
      ]
    },
    {
      "cell_type": "code",
      "execution_count": null,
      "metadata": {
        "colab": {
          "base_uri": "https://localhost:8080/",
          "height": 175
        },
        "id": "3bec7236-0159-4803-bbcd-fef76eca61e0",
        "outputId": "5fcf15d0-49e7-4a25-a1d1-739f65a1758c"
      },
      "outputs": [
        {
          "data": {
            "text/html": [
              "<div>\n",
              "<style scoped>\n",
              "    .dataframe tbody tr th:only-of-type {\n",
              "        vertical-align: middle;\n",
              "    }\n",
              "\n",
              "    .dataframe tbody tr th {\n",
              "        vertical-align: top;\n",
              "    }\n",
              "\n",
              "    .dataframe thead th {\n",
              "        text-align: right;\n",
              "    }\n",
              "</style>\n",
              "<table border=\"1\" class=\"dataframe\">\n",
              "  <thead>\n",
              "    <tr style=\"text-align: right;\">\n",
              "      <th></th>\n",
              "      <th>numbr_likes</th>\n",
              "      <th>number_comments</th>\n",
              "    </tr>\n",
              "  </thead>\n",
              "  <tbody>\n",
              "    <tr>\n",
              "      <th>numbr_likes</th>\n",
              "      <td>1.000000</td>\n",
              "      <td>0.374453</td>\n",
              "    </tr>\n",
              "    <tr>\n",
              "      <th>number_comments</th>\n",
              "      <td>0.374453</td>\n",
              "      <td>1.000000</td>\n",
              "    </tr>\n",
              "  </tbody>\n",
              "</table>\n",
              "</div>"
            ],
            "text/plain": [
              "                 numbr_likes  number_comments\n",
              "numbr_likes         1.000000         0.374453\n",
              "number_comments     0.374453         1.000000"
            ]
          },
          "execution_count": 44,
          "metadata": {},
          "output_type": "execute_result"
        }
      ],
      "source": [
        "df_posts[['numbr_likes','number_comments']].corr()"
      ]
    },
    {
      "cell_type": "markdown",
      "metadata": {
        "id": "a24dc7c5-e861-41ba-84d0-d586dc2c9974"
      },
      "source": [
        "This is the correlation matrix only for the columns of number of likes and number of comments. Correlation index measures the intensity of the lineare relationship and in this particular case there is a presence of a small positive linear relationship and it is equal to 0.374453. "
      ]
    },
    {
      "cell_type": "markdown",
      "metadata": {
        "id": "7e37d33d-620b-4e7c-b95b-75a1e67fd331"
      },
      "source": [
        "## b) Can you find any significant relationship between the time a user publishes a post and the number of comments and “likes”? Use an appropriate statistical test or technique and support your choice. ##"
      ]
    },
    {
      "cell_type": "code",
      "execution_count": null,
      "metadata": {
        "id": "1c3cb4cc-4013-4fe4-abe9-a0e250bf58ed"
      },
      "outputs": [],
      "source": [
        "data_posts_cts = df_posts[['numbr_likes','number_comments','cts']].dropna(axis = 0, how = 'any')  # if there are missing values we are dropping rows that contain them"
      ]
    },
    {
      "cell_type": "code",
      "execution_count": null,
      "metadata": {
        "id": "6eb9116c-0675-4cfd-a648-fa2a2c690743",
        "outputId": "0d084381-dade-4061-b9b4-2eb15e537138"
      },
      "outputs": [
        {
          "data": {
            "text/plain": [
              "str"
            ]
          },
          "execution_count": 46,
          "metadata": {},
          "output_type": "execute_result"
        }
      ],
      "source": [
        "type(data_posts_cts.cts.values[0])   #the type of elements of cts column is string"
      ]
    },
    {
      "cell_type": "code",
      "execution_count": null,
      "metadata": {
        "id": "1d19ada3-e96c-465b-beca-4a248dd6455b"
      },
      "outputs": [],
      "source": [
        "def convert(date):\n",
        "    if isinstance(date,str):\n",
        "        return pd.Timestamp(date).hour     # we creted a function that convert the strings in pandas data type\n",
        "                                           # and we extracted only the hours to compute summaries that male sense on the time"
      ]
    },
    {
      "cell_type": "code",
      "execution_count": null,
      "metadata": {
        "id": "f5394b95-f06d-4099-8712-c442e15032f3"
      },
      "outputs": [],
      "source": [
        "data_posts_cts['cts'] = data_posts_cts['cts'].apply(convert) # we apply the function on the entire column cts"
      ]
    },
    {
      "cell_type": "markdown",
      "metadata": {
        "id": "cf7a9bb8-796b-456e-bb6b-1dccd4b753cb"
      },
      "source": [
        "Now, we want to make groups by hours and compute some statistic summaries of number of like and number of comment to understand the relationship of the time among these variables. \n",
        "First we calculate the average of likes and comments based on hours, so we can understand what is the best time to publish posts to get more likes or comments."
      ]
    },
    {
      "cell_type": "code",
      "execution_count": null,
      "metadata": {
        "id": "cf9732bb-9c4b-468a-93b5-d786c3d732c7"
      },
      "outputs": [],
      "source": [
        "mean_data_sorted_likes = data_posts_cts.groupby('cts').mean().sort_values(['numbr_likes','number_comments'], ascending  = False)"
      ]
    },
    {
      "cell_type": "code",
      "execution_count": null,
      "metadata": {
        "id": "4003ff99-4112-443d-a59c-8d507f0fd0b6",
        "outputId": "055e3c68-67bf-4943-d26f-92ce33c9fce9"
      },
      "outputs": [
        {
          "data": {
            "text/html": [
              "<div>\n",
              "<style scoped>\n",
              "    .dataframe tbody tr th:only-of-type {\n",
              "        vertical-align: middle;\n",
              "    }\n",
              "\n",
              "    .dataframe tbody tr th {\n",
              "        vertical-align: top;\n",
              "    }\n",
              "\n",
              "    .dataframe thead th {\n",
              "        text-align: right;\n",
              "    }\n",
              "</style>\n",
              "<table border=\"1\" class=\"dataframe\">\n",
              "  <thead>\n",
              "    <tr style=\"text-align: right;\">\n",
              "      <th></th>\n",
              "      <th>numbr_likes</th>\n",
              "      <th>number_comments</th>\n",
              "    </tr>\n",
              "    <tr>\n",
              "      <th>cts</th>\n",
              "      <th></th>\n",
              "      <th></th>\n",
              "    </tr>\n",
              "  </thead>\n",
              "  <tbody>\n",
              "    <tr>\n",
              "      <th>18</th>\n",
              "      <td>308.104218</td>\n",
              "      <td>8.177722</td>\n",
              "    </tr>\n",
              "    <tr>\n",
              "      <th>16</th>\n",
              "      <td>303.836960</td>\n",
              "      <td>7.640960</td>\n",
              "    </tr>\n",
              "    <tr>\n",
              "      <th>12</th>\n",
              "      <td>302.702326</td>\n",
              "      <td>7.928864</td>\n",
              "    </tr>\n",
              "    <tr>\n",
              "      <th>19</th>\n",
              "      <td>299.029985</td>\n",
              "      <td>8.020855</td>\n",
              "    </tr>\n",
              "    <tr>\n",
              "      <th>13</th>\n",
              "      <td>295.834220</td>\n",
              "      <td>7.684591</td>\n",
              "    </tr>\n",
              "    <tr>\n",
              "      <th>14</th>\n",
              "      <td>295.613455</td>\n",
              "      <td>7.914549</td>\n",
              "    </tr>\n",
              "    <tr>\n",
              "      <th>17</th>\n",
              "      <td>294.936697</td>\n",
              "      <td>7.902970</td>\n",
              "    </tr>\n",
              "    <tr>\n",
              "      <th>15</th>\n",
              "      <td>291.164779</td>\n",
              "      <td>7.558913</td>\n",
              "    </tr>\n",
              "    <tr>\n",
              "      <th>20</th>\n",
              "      <td>289.023202</td>\n",
              "      <td>8.118177</td>\n",
              "    </tr>\n",
              "    <tr>\n",
              "      <th>10</th>\n",
              "      <td>285.686995</td>\n",
              "      <td>7.585208</td>\n",
              "    </tr>\n",
              "    <tr>\n",
              "      <th>11</th>\n",
              "      <td>285.417389</td>\n",
              "      <td>7.773021</td>\n",
              "    </tr>\n",
              "    <tr>\n",
              "      <th>21</th>\n",
              "      <td>279.280997</td>\n",
              "      <td>7.562111</td>\n",
              "    </tr>\n",
              "    <tr>\n",
              "      <th>2</th>\n",
              "      <td>278.815356</td>\n",
              "      <td>7.772832</td>\n",
              "    </tr>\n",
              "    <tr>\n",
              "      <th>23</th>\n",
              "      <td>272.270135</td>\n",
              "      <td>6.955512</td>\n",
              "    </tr>\n",
              "    <tr>\n",
              "      <th>3</th>\n",
              "      <td>271.617558</td>\n",
              "      <td>7.325252</td>\n",
              "    </tr>\n",
              "    <tr>\n",
              "      <th>9</th>\n",
              "      <td>269.073406</td>\n",
              "      <td>7.393668</td>\n",
              "    </tr>\n",
              "    <tr>\n",
              "      <th>1</th>\n",
              "      <td>266.617115</td>\n",
              "      <td>7.683338</td>\n",
              "    </tr>\n",
              "    <tr>\n",
              "      <th>8</th>\n",
              "      <td>264.920865</td>\n",
              "      <td>7.710575</td>\n",
              "    </tr>\n",
              "    <tr>\n",
              "      <th>4</th>\n",
              "      <td>263.378887</td>\n",
              "      <td>6.930610</td>\n",
              "    </tr>\n",
              "    <tr>\n",
              "      <th>7</th>\n",
              "      <td>262.927747</td>\n",
              "      <td>7.026694</td>\n",
              "    </tr>\n",
              "    <tr>\n",
              "      <th>0</th>\n",
              "      <td>262.134266</td>\n",
              "      <td>7.384570</td>\n",
              "    </tr>\n",
              "    <tr>\n",
              "      <th>5</th>\n",
              "      <td>261.192269</td>\n",
              "      <td>6.683862</td>\n",
              "    </tr>\n",
              "    <tr>\n",
              "      <th>22</th>\n",
              "      <td>260.670215</td>\n",
              "      <td>6.919861</td>\n",
              "    </tr>\n",
              "    <tr>\n",
              "      <th>6</th>\n",
              "      <td>253.587294</td>\n",
              "      <td>6.723551</td>\n",
              "    </tr>\n",
              "  </tbody>\n",
              "</table>\n",
              "</div>"
            ],
            "text/plain": [
              "     numbr_likes  number_comments\n",
              "cts                              \n",
              "18    308.104218         8.177722\n",
              "16    303.836960         7.640960\n",
              "12    302.702326         7.928864\n",
              "19    299.029985         8.020855\n",
              "13    295.834220         7.684591\n",
              "14    295.613455         7.914549\n",
              "17    294.936697         7.902970\n",
              "15    291.164779         7.558913\n",
              "20    289.023202         8.118177\n",
              "10    285.686995         7.585208\n",
              "11    285.417389         7.773021\n",
              "21    279.280997         7.562111\n",
              "2     278.815356         7.772832\n",
              "23    272.270135         6.955512\n",
              "3     271.617558         7.325252\n",
              "9     269.073406         7.393668\n",
              "1     266.617115         7.683338\n",
              "8     264.920865         7.710575\n",
              "4     263.378887         6.930610\n",
              "7     262.927747         7.026694\n",
              "0     262.134266         7.384570\n",
              "5     261.192269         6.683862\n",
              "22    260.670215         6.919861\n",
              "6     253.587294         6.723551"
            ]
          },
          "execution_count": 50,
          "metadata": {},
          "output_type": "execute_result"
        }
      ],
      "source": [
        "mean_data_sorted_likes"
      ]
    },
    {
      "cell_type": "markdown",
      "metadata": {
        "id": "649e9fde-6032-4cb3-a74f-974e5c8ade75"
      },
      "source": [
        "We sorted the results by likes and comments and as shown the best time to publish a post is at 18 or 16. Usually the first hours of a post are the most important because in this time period the post has more visibility, for this reason it is relevant to follow this table."
      ]
    },
    {
      "cell_type": "code",
      "execution_count": null,
      "metadata": {
        "id": "16d3afa9-d0e7-43c6-915c-db321c7ba92c"
      },
      "outputs": [],
      "source": [
        "mean_data_sorted_comments = data_posts_cts.groupby('cts').mean().sort_values(['number_comments','numbr_likes'], ascending  = False)"
      ]
    },
    {
      "cell_type": "code",
      "execution_count": null,
      "metadata": {
        "id": "9a1edf59-62b4-40a6-b471-c7132c5174d0",
        "outputId": "38ec06dc-cc11-43e9-d22d-84c7fe34cec6"
      },
      "outputs": [
        {
          "data": {
            "text/html": [
              "<div>\n",
              "<style scoped>\n",
              "    .dataframe tbody tr th:only-of-type {\n",
              "        vertical-align: middle;\n",
              "    }\n",
              "\n",
              "    .dataframe tbody tr th {\n",
              "        vertical-align: top;\n",
              "    }\n",
              "\n",
              "    .dataframe thead th {\n",
              "        text-align: right;\n",
              "    }\n",
              "</style>\n",
              "<table border=\"1\" class=\"dataframe\">\n",
              "  <thead>\n",
              "    <tr style=\"text-align: right;\">\n",
              "      <th></th>\n",
              "      <th>numbr_likes</th>\n",
              "      <th>number_comments</th>\n",
              "    </tr>\n",
              "    <tr>\n",
              "      <th>cts</th>\n",
              "      <th></th>\n",
              "      <th></th>\n",
              "    </tr>\n",
              "  </thead>\n",
              "  <tbody>\n",
              "    <tr>\n",
              "      <th>18</th>\n",
              "      <td>308.104218</td>\n",
              "      <td>8.177722</td>\n",
              "    </tr>\n",
              "    <tr>\n",
              "      <th>20</th>\n",
              "      <td>289.023202</td>\n",
              "      <td>8.118177</td>\n",
              "    </tr>\n",
              "    <tr>\n",
              "      <th>19</th>\n",
              "      <td>299.029985</td>\n",
              "      <td>8.020855</td>\n",
              "    </tr>\n",
              "    <tr>\n",
              "      <th>12</th>\n",
              "      <td>302.702326</td>\n",
              "      <td>7.928864</td>\n",
              "    </tr>\n",
              "    <tr>\n",
              "      <th>14</th>\n",
              "      <td>295.613455</td>\n",
              "      <td>7.914549</td>\n",
              "    </tr>\n",
              "    <tr>\n",
              "      <th>17</th>\n",
              "      <td>294.936697</td>\n",
              "      <td>7.902970</td>\n",
              "    </tr>\n",
              "    <tr>\n",
              "      <th>11</th>\n",
              "      <td>285.417389</td>\n",
              "      <td>7.773021</td>\n",
              "    </tr>\n",
              "    <tr>\n",
              "      <th>2</th>\n",
              "      <td>278.815356</td>\n",
              "      <td>7.772832</td>\n",
              "    </tr>\n",
              "    <tr>\n",
              "      <th>8</th>\n",
              "      <td>264.920865</td>\n",
              "      <td>7.710575</td>\n",
              "    </tr>\n",
              "    <tr>\n",
              "      <th>13</th>\n",
              "      <td>295.834220</td>\n",
              "      <td>7.684591</td>\n",
              "    </tr>\n",
              "    <tr>\n",
              "      <th>1</th>\n",
              "      <td>266.617115</td>\n",
              "      <td>7.683338</td>\n",
              "    </tr>\n",
              "    <tr>\n",
              "      <th>16</th>\n",
              "      <td>303.836960</td>\n",
              "      <td>7.640960</td>\n",
              "    </tr>\n",
              "    <tr>\n",
              "      <th>10</th>\n",
              "      <td>285.686995</td>\n",
              "      <td>7.585208</td>\n",
              "    </tr>\n",
              "    <tr>\n",
              "      <th>21</th>\n",
              "      <td>279.280997</td>\n",
              "      <td>7.562111</td>\n",
              "    </tr>\n",
              "    <tr>\n",
              "      <th>15</th>\n",
              "      <td>291.164779</td>\n",
              "      <td>7.558913</td>\n",
              "    </tr>\n",
              "    <tr>\n",
              "      <th>9</th>\n",
              "      <td>269.073406</td>\n",
              "      <td>7.393668</td>\n",
              "    </tr>\n",
              "    <tr>\n",
              "      <th>0</th>\n",
              "      <td>262.134266</td>\n",
              "      <td>7.384570</td>\n",
              "    </tr>\n",
              "    <tr>\n",
              "      <th>3</th>\n",
              "      <td>271.617558</td>\n",
              "      <td>7.325252</td>\n",
              "    </tr>\n",
              "    <tr>\n",
              "      <th>7</th>\n",
              "      <td>262.927747</td>\n",
              "      <td>7.026694</td>\n",
              "    </tr>\n",
              "    <tr>\n",
              "      <th>23</th>\n",
              "      <td>272.270135</td>\n",
              "      <td>6.955512</td>\n",
              "    </tr>\n",
              "    <tr>\n",
              "      <th>4</th>\n",
              "      <td>263.378887</td>\n",
              "      <td>6.930610</td>\n",
              "    </tr>\n",
              "    <tr>\n",
              "      <th>22</th>\n",
              "      <td>260.670215</td>\n",
              "      <td>6.919861</td>\n",
              "    </tr>\n",
              "    <tr>\n",
              "      <th>6</th>\n",
              "      <td>253.587294</td>\n",
              "      <td>6.723551</td>\n",
              "    </tr>\n",
              "    <tr>\n",
              "      <th>5</th>\n",
              "      <td>261.192269</td>\n",
              "      <td>6.683862</td>\n",
              "    </tr>\n",
              "  </tbody>\n",
              "</table>\n",
              "</div>"
            ],
            "text/plain": [
              "     numbr_likes  number_comments\n",
              "cts                              \n",
              "18    308.104218         8.177722\n",
              "20    289.023202         8.118177\n",
              "19    299.029985         8.020855\n",
              "12    302.702326         7.928864\n",
              "14    295.613455         7.914549\n",
              "17    294.936697         7.902970\n",
              "11    285.417389         7.773021\n",
              "2     278.815356         7.772832\n",
              "8     264.920865         7.710575\n",
              "13    295.834220         7.684591\n",
              "1     266.617115         7.683338\n",
              "16    303.836960         7.640960\n",
              "10    285.686995         7.585208\n",
              "21    279.280997         7.562111\n",
              "15    291.164779         7.558913\n",
              "9     269.073406         7.393668\n",
              "0     262.134266         7.384570\n",
              "3     271.617558         7.325252\n",
              "7     262.927747         7.026694\n",
              "23    272.270135         6.955512\n",
              "4     263.378887         6.930610\n",
              "22    260.670215         6.919861\n",
              "6     253.587294         6.723551\n",
              "5     261.192269         6.683862"
            ]
          },
          "execution_count": 52,
          "metadata": {},
          "output_type": "execute_result"
        }
      ],
      "source": [
        "mean_data_sorted_comments"
      ]
    },
    {
      "cell_type": "markdown",
      "metadata": {
        "id": "157a85b4-ebed-4557-bc07-1da5c0492888"
      },
      "source": [
        "This time, we sorted the results by comments and then by likes and as shown the best time to publish a post is 18 too ( another confirm that it is the best time to publish a post) or 20. In both cases the worst hours to publish a post seems to be 5, 6 and 22."
      ]
    },
    {
      "cell_type": "code",
      "execution_count": null,
      "metadata": {
        "id": "fcdT_dP8-AG0"
      },
      "outputs": [],
      "source": [
        "del data_posts_cts"
      ]
    },
    {
      "cell_type": "markdown",
      "metadata": {
        "id": "717c954a-6b93-4858-87f7-a318745fe196"
      },
      "source": [
        "## c) What’s the distribution of followers? Plot the empirical distribution of followers amongst all users and extract the mean, mode, and quantiles. Interpret those figures. ## "
      ]
    },
    {
      "cell_type": "code",
      "execution_count": null,
      "metadata": {
        "id": "37382ddc-448f-4a15-81c1-036e0d2dddd7",
        "outputId": "736f367e-2399-49a0-8bdd-72e76ef4ec0a"
      },
      "outputs": [
        {
          "data": {
            "text/plain": [
              "(0.0, 1.5)"
            ]
          },
          "execution_count": 54,
          "metadata": {},
          "output_type": "execute_result"
        },
        {
          "data": {
            "image/png": "[encoded data removed]",
            "text/plain": [
              "<Figure size 640x480 with 1 Axes>"
            ]
          },
          "metadata": {},
          "output_type": "display_data"
        }
      ],
      "source": [
        "sns.ecdfplot(data_profiles2, \n",
        "             x=\"followers\",)\n",
        "plt.ylim(0,1.5)"
      ]
    },
    {
      "cell_type": "markdown",
      "metadata": {
        "id": "f92dc5f0-08ef-4d9f-adb2-49cc95b51c0e"
      },
      "source": [
        "This is the plot of the empirical distrubution of followers amongst all users. The fact that the probability 1 is reached \"near\" the value zero means that there are few values that are very big, most of the distribution doesn't have very high values of followers. We can also compute all the values of the cumulative distribution function with the following code."
      ]
    },
    {
      "cell_type": "code",
      "execution_count": null,
      "metadata": {
        "id": "b7ac954a-5e05-4237-b5bf-3cea95f4f175"
      },
      "outputs": [],
      "source": [
        "import dc_stat_think as dcst\n",
        "from statistics import mode"
      ]
    },
    {
      "cell_type": "code",
      "execution_count": null,
      "metadata": {
        "id": "e8396f82-7e69-4610-8865-2fc78660f5e1"
      },
      "outputs": [],
      "source": [
        "x, y = dcst.ecdf(data_profiles2.followers)"
      ]
    },
    {
      "cell_type": "code",
      "execution_count": null,
      "metadata": {
        "id": "b7ffc25d-0ac4-45dd-aa4a-a84ca7dab801",
        "outputId": "fbd2f455-eeaa-48b3-f700-93f96fb728f1"
      },
      "outputs": [
        {
          "data": {
            "image/png": "[encoded data removed]",
            "text/plain": [
              "<Figure size 640x480 with 1 Axes>"
            ]
          },
          "metadata": {},
          "output_type": "display_data"
        }
      ],
      "source": [
        "plt.plot(x,y)\n",
        "plt.xlim(0,50000)\n",
        "plt.show()\n"
      ]
    },
    {
      "cell_type": "markdown",
      "metadata": {
        "id": "47377d71-f356-4e81-98fb-236477edc191"
      },
      "source": [
        "We have the same result, but now we have a more concentrated visualization to see the behaviour of the function for lower values. Furthermore, we can use the  calculated values to extract the mean, mode and quantiles."
      ]
    },
    {
      "cell_type": "code",
      "execution_count": null,
      "metadata": {
        "id": "101ef0d0-bfc8-4bb8-96db-cba89c362cd4",
        "outputId": "93f18d12-89d0-4948-ffe1-824d9ac074c2"
      },
      "outputs": [
        {
          "name": "stdout",
          "output_type": "stream",
          "text": [
            "4745.391576350365\n"
          ]
        }
      ],
      "source": [
        "average = np.mean(x)\n",
        "print(average)\n"
      ]
    },
    {
      "cell_type": "markdown",
      "metadata": {
        "id": "03354f9a-e367-4094-bcc1-7358fa299adf"
      },
      "source": [
        "The mean of the followers of all users is about 4740. This value summarizes the entire distribution of followers with a single number representing the data’s center point or typical value."
      ]
    },
    {
      "cell_type": "code",
      "execution_count": null,
      "metadata": {
        "id": "c054565d-b933-4087-b8d8-ee0ecd135cac",
        "outputId": "d631dae3-2a56-4ab2-ad53-6f517846c144"
      },
      "outputs": [
        {
          "name": "stdout",
          "output_type": "stream",
          "text": [
            "406.0\n"
          ]
        }
      ],
      "source": [
        "median = np.min(x[y >= 0.5])\n",
        "print(median)\n"
      ]
    },
    {
      "cell_type": "markdown",
      "metadata": {
        "id": "f79f8119-2b57-4cb2-b04e-d54f124d9446"
      },
      "source": [
        "The median is equal to 406.0. This value is the midpoint of the distribution and is the point at which half the observations are above the value and half the observations are below the value. The median and the mean both measure central tendency. But unusual values, called outliers, can affect the median less than they affect the mean. In this case the distribution is positevely asymmetric because the mean is greater than the median. This could suggest that there are very large values of followers that affect the average, perhaps possible outliers, but if we think about the nature of the dataset concerning instagram, they they could only be famous people with a lot of followers."
      ]
    },
    {
      "cell_type": "code",
      "execution_count": null,
      "metadata": {
        "id": "f7b778dd-4276-49f2-97ef-ce9a0d99a2b4",
        "outputId": "5fbcd0d9-f3c4-402c-ae72-2806cd2a9408"
      },
      "outputs": [
        {
          "name": "stdout",
          "output_type": "stream",
          "text": [
            "0.0\n"
          ]
        }
      ],
      "source": [
        "moda = mode(x)\n",
        "print(moda)"
      ]
    },
    {
      "cell_type": "markdown",
      "metadata": {
        "id": "a81727b7-483e-40ca-9c5d-a3432ed25a16"
      },
      "source": [
        "The mode is 0.0, it the value that appears most frequently in a data set. This value makes it clear that there are a very high amount of profiles that have 0 followers. This low number could be due to the presence of many fake accounts or many bot accounts without followers."
      ]
    },
    {
      "cell_type": "code",
      "execution_count": null,
      "metadata": {
        "id": "eb09c9cd-17c1-4220-8cc5-6b90969fd6fc",
        "outputId": "27ccef3c-ac0f-43ff-c324-26065b1df5fa"
      },
      "outputs": [
        {
          "name": "stdout",
          "output_type": "stream",
          "text": [
            "159.0\n",
            "406.0\n",
            "974.0\n"
          ]
        }
      ],
      "source": [
        "first_quantile = np.min(x[y >= 0.25])\n",
        "print(first_quantile)\n",
        "\n",
        "second_quantile = median\n",
        "print(second_quantile)\n",
        "\n",
        "third_quantile = np.min(x[y >= 0.75])\n",
        "print(third_quantile)"
      ]
    },
    {
      "cell_type": "markdown",
      "metadata": {
        "id": "2dd3273c-9feb-48ec-9ae9-74f4eab3f08b"
      },
      "source": [
        "The quantiles, more precisely the quartiles have an interpretation similar to that of the median. In this case the first quartile is 159.0 and it means that the 25% of profiles on instagram have less than 159 followers.\n",
        "\n",
        "The second quartile is equal to the median and it means that a 50% of the profiles have less than 406 followers, but also that the other 50% of the profiles have more than 406 followers.\n",
        "\n",
        "The third quartile is 974.0 and it means that the 25% of profiles on instagram have more than 974.0 followers or the 75% of profiles on instagram have less than 974.0 followers.\n",
        "\n",
        "Thanks to these quartiles we can see how the average ranks beyond the third quartile, precisely because there are very high values of followers that influence it."
      ]
    },
    {
      "cell_type": "code",
      "execution_count": null,
      "metadata": {
        "id": "zt_anL7y-AG3"
      },
      "outputs": [],
      "source": [
        "del data_profiles2\n",
        "del data_posts2"
      ]
    },
    {
      "cell_type": "markdown",
      "metadata": {
        "id": "8c42bd61-6e58-47e2-94c4-077eb6c86eee"
      },
      "source": [
        "## d) What are histograms, bar plots, scatterplots and pie charts used for? ##"
      ]
    },
    {
      "cell_type": "markdown",
      "metadata": {
        "id": "974daf89-44f0-46ec-b67d-ff22f4bdf398"
      },
      "source": [
        "All heard the old adage: “a picture is worth a thousand words”. One of the best techniques for understanding data is to visualize the numbers as a picture. This can make it far easier to see a pattern or it can expose patterns that might otherwise have been concealed. Data can be visualized in different ways, some charts are more appropriate than others, depending on the nature of the data. We focus on histograms, bar plots, scatterplots and pie charts. "
      ]
    },
    {
      "cell_type": "markdown",
      "metadata": {
        "id": "3b4db9b3-8c65-402a-8c23-f682670273e4"
      },
      "source": [
        "### HISTOGRAM ###\n",
        "\n",
        "The histogram is used to summarize discrete or continuous data that are measured on an interval scale. It is often used to illustrate the major features of the distribution of the data in a convenient form. It is also useful when dealing with large datasets. It can help detect any unusual observations (outliers) or any gaps in the data. A histogram divides up the range of possible values in a data set into classes or groups. For each group, a rectangle is constructed with a base length equal to the range of values in that specific group and a length equal to the number of observations falling into that group.  A histogram has an appearance like a vertical bar chart, but there are no gaps between the bars.\n"
      ]
    },
    {
      "cell_type": "markdown",
      "metadata": {
        "id": "df6a3be5-575e-42df-bd48-491b8e1e53c5"
      },
      "source": [
        "### BAR PLOTS ###\n",
        "\n",
        "A bar chart is the simplest type of chart to draw and read. It is used to compare frequencies or values for different categories or groups. Bar charts usually present categorical variables, discrete variables or continuous variables grouped in class intervals. They consist of an axis and a series of labelled horizontal or vertical bars. The bars depict frequencies of different values of a variable or simply the different values themselves. There are also subclasses of barcharts, for example vertical bar charts, horizontal bar charts,  grouped bar charts, horizontal bar charts and stacked bar charts. Bar charts should be used when you are showing segments of information. Vertical bar charts are useful to compare different categorical or discrete variables, such as age groups, classes, schools, etc., if there are not too many categories to compare. They are also very useful for time series data. One disadvantage of vertical bar charts, however, is that they lack space for text labelling at the foot of each bar. When category labels in the chart are too long, you might find a horizontal bar chart better for displaying information\n",
        "Grouped bar charts allow to make direct comparisons on the same chart by age group, gender or anything else you wish to compare. However, if a grouped bar chart has too many series of data, the chart becomes cluttered and it can be confusing to read. One disadvantage of vertical bar charts, however, is that they lack space for text labelling at the foot of each bar. When category labels in the chart are too long, you might find a horizontal bar chart better for displaying information. The stacked bar chart is a preliminary data analysis tool used to show segments of total. It can contrast values, but not necessarily in the simplest manner. "
      ]
    },
    {
      "cell_type": "markdown",
      "metadata": {
        "id": "f46a9ece-0dc0-41a9-96df-82069960ba27"
      },
      "source": [
        "### SCATTERPLOTS ###\n",
        "\n",
        "The scatterplot is widely used to present measurements of two or more related variables. It is particularly useful when the values of the variables of the y-axis are thought to be dependent upon the values of the variable of the x-axis. In a scatterplot, the data points are plotted but not joined. The resulting pattern indicates the type and strength of the relationship between two or more variables. The pattern of the data points on the scatterplot reveals the relationship between the variables. Scatterplots can illustrate various patterns and relationships, such as:\n",
        "\n",
        "a linear or non-linear relationship, \n",
        "\n",
        "a positive (direct) or negative (inverse) relationship,\n",
        "\n",
        "the concentration or spread of data points, \n",
        "\n",
        "the presence of outliers.\n"
      ]
    },
    {
      "cell_type": "markdown",
      "metadata": {
        "id": "e8721ac1-c559-4bdc-98d0-fa52279a39ed"
      },
      "source": [
        "### PIE CHART ###\n",
        "\n",
        "A pie chart is a way of summarizing a set of nominal data or displaying the different values of a given variable, This type of chart is a circle divided into a series of segments. Each segment represents a particular category. The area of each segment is the same proportion of a circle as the category is of the total data set. Pie chart usually shows the component parts of a whole. A pie chart can be used to show the percentage distribution of one variable, but only a small number of categories can be displayed, usally not more than six. The use of this type of chart is not recommended by many statisticians, as it can be difficult to compare the different segments of the pie and, even more, to compare data across different pie charts. To overcome this problem, the segments can be labeled with their actual values. In some cases, the category names can also be written as labels on the chart, so that the legend is not necessary.\n"
      ]
    },
    {
      "cell_type": "markdown",
      "metadata": {
        "id": "5419adc3-5f0b-4f57-844a-fdcffa330f78"
      },
      "source": [
        "## e) What insights can you extract from a boxplot? ##"
      ]
    },
    {
      "cell_type": "markdown",
      "metadata": {
        "id": "56f0aa35-1ca9-4eb1-a2bb-5b5ba519693f"
      },
      "source": [
        "A boxplot is a simple and powerful representation of a univariate distribution. \n",
        "\n",
        "**Box** : \n",
        "\n",
        "The box embraces the portion of data included between the 25 and 75 percentiles (also known as first and third quartiles). Namely, the 25 percentile (or first quartile) of a given sample of numerical data indicates the value below which 25% of all sample data are located. The range between these two quartiles is called Interquartile Range (IQR). \n",
        "\n",
        "**Median**:\n",
        "\n",
        "Within the box, we can also see the value of median. Note that the median is nothing but the 50 percentile of the underlying numerical data.\n",
        "\n",
        "**Whisker**:\n",
        "\n",
        "They account for all the values that fall outside the central 50% of data (the portion contained into the IQR).\n",
        "\n",
        "**Min and Max**: \n",
        "\n",
        "These two values identify the extreme values of our numerical data. Note that box plots can also be displayed in a slightly different manner, so that the termination of whiskers do not represent the extreme values (min/max), but rather a quantity computed as Q1–1.5 * IQR for the lower whisker, Q3 + 1.5 * IQR for the upper whisker (where Q1 and Q3 stand for, respectively, first and third quartiles). This different visualization is very useful if we want to identify outliers.\n",
        "\n",
        "**Skewness of Distribution**: \n",
        "\n",
        "We can retrieve the shape of the distribution, which means, understanding whether it is symmetric or not. The skewness is the quantity that tells us the tendency of our distribution to be asymmetric. More specifically, a positive skewness indicates a right-skewed distribution, where the median is lower than the mean. On the other side, a negative skewness indicates a left-skewed distribution where the median is greater than the mean. \n",
        "Basically, whenever the median is closer to the lower bound of the box, and the upper whisker is longer than the lower one, it indicates that the distribution is right-skewed (the skewness is positive).\n",
        "On the other hand, whenever the median is closer to the upper bound of the box, and the lower whisker is longer than the upper one, it indicates a left-skewed distribution (the skewness is negative).\n",
        "\n",
        "\n",
        "**Outliers**: \n",
        "\n",
        "We can retrieve, as previously mentioned, the presence of outliers. In statistics, we define outliers as those values which are far apart from the majority of other values. As a general rule, we can say that a given observation is an outlier whenever it is greater than Q3 + 1.5 * IQR or lower than Q1 -1.5 * IQR. There will be some observations that fall outside the whiskers: those are labeled as outliers.\n"
      ]
    },
    {
      "cell_type": "markdown",
      "metadata": {
        "id": "K13-hcpDG01n"
      },
      "source": [
        "# Algorithmic Questions #"
      ]
    },
    {
      "cell_type": "markdown",
      "metadata": {
        "id": "yksI4Qpq-AG6"
      },
      "source": [
        "# AQ1 #"
      ]
    },
    {
      "cell_type": "markdown",
      "metadata": {
        "id": "pLHMkBVw-AG6"
      },
      "source": [
        "## a) What is the output of this algorithm? Describe the mechanism of the algorithm in detail . We do not want to know only its final result. (Describe one example on your own) ##"
      ]
    },
    {
      "cell_type": "markdown",
      "metadata": {
        "id": "_vzzlaXsHYfc"
      },
      "source": [
        "To understand the functioning of the algorithm we must do a key observation: every iteration of the for loop (no matter in which subcall of the function f2) doesn't modify the sequence that has been passed to the function call, i.e. every modification made in each iteration is undone by the end of such iteration.\n",
        "We proof this by induction on the parameter $start$ in a reverse order, i.e. with $start$ from $end$ up to $0$:\n",
        "\n",
        "\n",
        "*   Base step: $start = end$ \n",
        "\n",
        "The function just print the entire sequence, so it does not alter the sequence itself\n",
        "\n",
        "\n",
        "*   Suppose the claim true for $start + 1$ \n",
        "\n",
        "We call f2 with $start$ and, taking for example the first iteration, we have in the ordering: a flip of two elements of the sequence, a call of f2 with $start + 1$ which doesn't change the sequence and then the exact same previous flip, so the sequence remain analtered.\n",
        "So what the algorithm do is \n",
        "We now describe the algorithm on a specific sequence : [a,b,c] \n",
        "\n",
        "To make the explanation more clear we call $i$ the index of the main f2 call and $j$ the indeces of the nested calls.\n",
        "\n",
        "Let's consider a practical example to explain what the algorithm does, let's take the sequence [a,b,c]: it starts with the whole sequence and considers all the sequences that have as first element each of the element of the sequence (the for loop) in this case a sequence that starts with a, one that starts with b and one that starts with c, for every such sequence we call the function on the subsequence composed by the whole sequence without the first element and so on in a recursive manner. Since the only operation we are doing on the sequence is flipping elements we are not introducing more occurences of the elements (i.e. we can not obtain the sequence [a,a,a]). It is then clear we afre talking of the permutation of the sequence. \n",
        "\n",
        "Let's see the algorithm in action with [a,b,c].\n",
        "\n",
        "start = 0 end = 3 \n",
        "\n",
        "$i=0$ (start=0) <br>\n",
        "&nbsp;&nbsp;&nbsp;&nbsp; [a,b,c] <br>\n",
        "&nbsp;&nbsp;&nbsp;&nbsp; $j=1$ (start=1) <br>\n",
        "&nbsp;&nbsp;&nbsp;&nbsp;&nbsp;&nbsp;&nbsp;&nbsp; [a,b,c] <br>\n",
        "&nbsp;&nbsp;&nbsp;&nbsp;&nbsp;&nbsp;&nbsp;&nbsp; $k=2$ (start=2) <br>\n",
        "&nbsp;&nbsp;&nbsp;&nbsp;&nbsp;&nbsp;&nbsp;&nbsp;&nbsp;&nbsp;&nbsp;&nbsp; [abc] <br>\n",
        "&nbsp;&nbsp;&nbsp;&nbsp;&nbsp;&nbsp;&nbsp;&nbsp;&nbsp;&nbsp;&nbsp;&nbsp; print(a,b,c) <br>\n",
        "&nbsp;&nbsp;&nbsp;&nbsp;&nbsp;&nbsp;&nbsp;&nbsp;&nbsp;&nbsp;&nbsp;&nbsp; [abc] <br>\n",
        "&nbsp;&nbsp;&nbsp;&nbsp;&nbsp;&nbsp;&nbsp;&nbsp; [a,b,c] <br>\n",
        "&nbsp;&nbsp;&nbsp;&nbsp; $j=2$ (start=1) <br>\n",
        "&nbsp;&nbsp;&nbsp;&nbsp;&nbsp;&nbsp;&nbsp;&nbsp; [a,c,b] <br>\n",
        "&nbsp;&nbsp;&nbsp;&nbsp;&nbsp;&nbsp;&nbsp;&nbsp; print(a,c,b) <br>\n",
        "&nbsp;&nbsp;&nbsp;&nbsp;&nbsp;&nbsp;&nbsp;&nbsp; [abc] <br>\n",
        "$i=1$ (start = 0) <br>\n",
        "&nbsp;&nbsp;&nbsp;&nbsp; [b,a,c] <br>\n",
        "&nbsp;&nbsp;&nbsp;&nbsp; $j=1$ (start=1) <br>\n",
        "&nbsp;&nbsp;&nbsp;&nbsp;&nbsp;&nbsp;&nbsp;&nbsp; [b,a,c] <br>\n",
        "&nbsp;&nbsp;&nbsp;&nbsp;&nbsp;&nbsp;&nbsp;&nbsp; $k=2$ (start=2) <br>\n",
        "&nbsp;&nbsp;&nbsp;&nbsp;&nbsp;&nbsp;&nbsp;&nbsp;&nbsp;&nbsp;&nbsp;&nbsp; [b,a,c] <br>\n",
        "&nbsp;&nbsp;&nbsp;&nbsp;&nbsp;&nbsp;&nbsp;&nbsp;&nbsp;&nbsp;&nbsp;&nbsp; print(b,a,c) <br>\n",
        "&nbsp;&nbsp;&nbsp;&nbsp;&nbsp;&nbsp;&nbsp;&nbsp;&nbsp;&nbsp;&nbsp;&nbsp; [b,a,c] <br>\n",
        "&nbsp;&nbsp;&nbsp;&nbsp;&nbsp;&nbsp;&nbsp;&nbsp; [b,a,c] <br>\n",
        "&nbsp;&nbsp;&nbsp;&nbsp; $j=2$ (start=1) <br>\n",
        "&nbsp;&nbsp;&nbsp;&nbsp;&nbsp;&nbsp;&nbsp;&nbsp; [b,c,a] <br>\n",
        "&nbsp;&nbsp;&nbsp;&nbsp;&nbsp;&nbsp;&nbsp;&nbsp; print(b,c,a) <br>\n",
        "&nbsp;&nbsp;&nbsp;&nbsp;&nbsp;&nbsp;&nbsp;&nbsp; [b,a,c] <br>\n",
        "$i=2$ (start=0) <br>\n",
        "&nbsp;&nbsp;&nbsp;&nbsp; [c,b,a] <br>\n",
        "&nbsp;&nbsp;&nbsp;&nbsp; $j=1$ (start=1) <br>\n",
        "&nbsp;&nbsp;&nbsp;&nbsp;&nbsp;&nbsp;&nbsp;&nbsp; [c,b,a] <br>\n",
        "&nbsp;&nbsp;&nbsp;&nbsp;&nbsp;&nbsp;&nbsp;&nbsp; $k=2$ (start=2) <br>\n",
        "&nbsp;&nbsp;&nbsp;&nbsp;&nbsp;&nbsp;&nbsp;&nbsp;&nbsp;&nbsp;&nbsp;&nbsp; [c,b,a] <br>\n",
        "&nbsp;&nbsp;&nbsp;&nbsp;&nbsp;&nbsp;&nbsp;&nbsp;&nbsp;&nbsp;&nbsp;&nbsp; print(c,b,a) <br>\n",
        "&nbsp;&nbsp;&nbsp;&nbsp;&nbsp;&nbsp;&nbsp;&nbsp;&nbsp;&nbsp;&nbsp;&nbsp; [c,b,a] <br>\n",
        "&nbsp;&nbsp;&nbsp;&nbsp;&nbsp;&nbsp;&nbsp;&nbsp; [c,b,a] <br>\n",
        "&nbsp;&nbsp;&nbsp;&nbsp; $j=2$ (start=1) <br>\n",
        "&nbsp;&nbsp;&nbsp;&nbsp;&nbsp;&nbsp;&nbsp;&nbsp; [c,a,b] <br>\n",
        "&nbsp;&nbsp;&nbsp;&nbsp;&nbsp;&nbsp;&nbsp;&nbsp; print(c,a,b) <br>\n",
        "&nbsp;&nbsp;&nbsp;&nbsp;&nbsp;&nbsp;&nbsp;&nbsp; [c,b,a] <br>\n",
        "\n"
      ]
    },
    {
      "cell_type": "markdown",
      "metadata": {
        "id": "qxUWUbMb-AG7"
      },
      "source": [
        "## b) What is asymptotically (i.e., we are asking for big-O complexity) the algorithm's running time as a function of N?##"
      ]
    },
    {
      "cell_type": "markdown",
      "metadata": {
        "id": "-rtIhh-IEQ7e"
      },
      "source": [
        "## Computational complexity"
      ]
    },
    {
      "cell_type": "markdown",
      "metadata": {
        "id": "XIXvldejEVEJ"
      },
      "source": [
        "\\begin{align}\n",
        "T(n) &= nT(n-1) + nO(1) = \\\\\n",
        " &=n((n-1)T(n-2) + (n-1)O(1)) + nO(1) = \\\\\n",
        " &=n(n-1)T(n-2) + n(n-1)O(1) + nO(1) = \\\\\n",
        " &=  ...  \\\\\n",
        " &= n(n-1)...(n-k+1)T(n-k) + \\sum_{i=0}^{k} \\frac{n!}{(n-i)!}\n",
        "\\end{align}\n",
        "We stop when $n-k = 0$ i.e. when $k = n$  <br>\n",
        "We obtain: <br>\n",
        "$$ T(n) = n!T(0) + O(1) \\sum_{i=0}^{n} \\frac{n!}{(n-i)!} $$\n",
        "Since  $T(0) = O(n)$: \\\\\n",
        "$$ T(n) = O(nn!) + O(1) \\sum_{i=0}^{n} \\frac{n!}{(n-i)!} \\le O(nn!) + O(1)en! = O(nn!)$$"
      ]
    },
    {
      "cell_type": "markdown",
      "metadata": {
        "id": "UawMWMiI-AG7"
      },
      "source": [
        "## c) Is this algorithm the optimal one to produce this output? If not, can you suggest a better algorithm to perform the same task? ##"
      ]
    },
    {
      "cell_type": "markdown",
      "metadata": {
        "id": "szzkWfSR-AG7"
      },
      "source": [
        "Now we ask: is there a better algorithm? <br>\n",
        "The answer is: if we want to print all the permutations, no. <br>\n",
        "Fistly it is not possible to compute permutations in less than $n!$. This is obviuos because we need at least costant time to compute each of them, and the total number of permutations is $n!$. Secondly notice that the algorithm actually takes $n!$ time to compute the permutations but, since we have to print all of them with a for loop that takes linear time, the complexity raise to $nn!$\n"
      ]
    },
    {
      "cell_type": "markdown",
      "metadata": {
        "id": "14512668-6e85-4834-a031-69e438eaec2d"
      },
      "source": [
        "# AQ2 #"
      ]
    },
    {
      "cell_type": "markdown",
      "metadata": {
        "id": "70fd73d7-061d-44ce-a971-174ab6c25e40"
      },
      "source": [
        "## 1. Implement a recursive algorithm to help Alex find the maximum possible value after multiplying the length of the pieces. Explain your algorithm in detail. ## "
      ]
    },
    {
      "cell_type": "code",
      "execution_count": null,
      "metadata": {
        "id": "xA_YizYK-AG8"
      },
      "outputs": [],
      "source": [
        "import numpy as np\n",
        "import matplotlib.pyplot as plt\n",
        "import time"
      ]
    },
    {
      "cell_type": "code",
      "execution_count": null,
      "metadata": {
        "id": "270f6024-919a-4dd5-a267-c4801a0ab555"
      },
      "outputs": [],
      "source": [
        "# recursive algorithm\n",
        "def cut_one(n):\n",
        "    # base cases,\n",
        "    if n <=1 :\n",
        "        return 0\n",
        "    # setting the max value to 0, cutting \n",
        "    # and update it with the new maximum value\n",
        "    mval = 0\n",
        "    for i in range(1,n):\n",
        "        mval = max(mval, i*(n-i), cut_one(n-i)*i)\n",
        "    return mval"
      ]
    },
    {
      "cell_type": "markdown",
      "metadata": {
        "id": "c9ee42e9-f708-432c-a655-d48e8c7d67ae"
      },
      "source": [
        "We respected the three rules because every piece of the cut always has an integer length; with the base cases we also checked that that there is at least one cut; we used every time the function max to take the maximum possible. \n",
        "\n",
        "Algorithm behaviour:\n",
        "We assumed that n is a length and for this reason it is a number at least equal to zero. Every time the length of the ribbon becomes 0 or 1 we return the 0 value which will have passed inside the function max to do che checking with other values. We need to initialize a variable called mval that will contain for every iteration the new maximum value. Mixing the for loop and the recursion we are able to compute all the combinations of the pieces and to store, as last one number, the maximum value possibile, based on the multiplication of the length of all pieces."
      ]
    },
    {
      "cell_type": "markdown",
      "metadata": {
        "id": "6a55facc-8635-41c1-a5f1-ed76ca084fa9"
      },
      "source": [
        "## 2. Show that the algorithm has exponential running time. ##"
      ]
    },
    {
      "cell_type": "markdown",
      "metadata": {
        "id": "HvI4bDbHhZhP"
      },
      "source": [
        "\\begin{align}\n",
        "T(n) &= T(n-1) + T(n-2) + ... + T(1) + O(n) \\\\\n",
        "&= 2T(n-2) + 2T(n-3) + ... + 2T(1) + O(n) + 2O(n-1) \\\\\n",
        "&= 4T(n-3) + 4T(n-4) + ... 4T(1) + O(n) + 2O(n-1) + 4O(n-2) \\\\\n",
        "&= ... \\\\\n",
        "&= 2^{k-1}T(n-k) + ... + 2^{k-1}T(1) + \\sum_{i=0}^{k-1}2^iO(n-i) \\\\\n",
        "&=... \\\\\n",
        "&= 2^{n-2}T(1) + \\sum_{i=0}^{n-2}2^iO(n-i) \\\\\n",
        "\\end{align}\n",
        "We have the two inequalities:\n",
        "\n",
        "$$ \\ge O(2^{n})$$\n",
        "\n",
        "and\n",
        "\n",
        "$$ \\le O(2^{n-2}) + O(n)\\sum_{i=0}^{n-2}2^i = O(2^{n})$$\n",
        "\n",
        "So the algorithm is exponential"
      ]
    },
    {
      "cell_type": "markdown",
      "metadata": {
        "id": "673abb9b-53c1-435a-ae83-2294ebb9980d"
      },
      "source": [
        "## 3. Now provide a polynomial solution, based on dynamic programming, and compute its running-time complexity. ##"
      ]
    },
    {
      "cell_type": "code",
      "execution_count": null,
      "metadata": {
        "id": "b064d2f7-7cb1-47d0-b72b-5c3023025e25"
      },
      "outputs": [],
      "source": [
        "# Polynomial solution based on dinamic programming\n",
        "def cut_two(n):\n",
        "    arr= [0 for i in range(n+1)]\n",
        "\n",
        "# the last value of the array that we are building will be our solution\n",
        "# the maximum product of the length of the cuts\n",
        "    for i in range(1,n+1):\n",
        "        mval = 0;\n",
        "        for j in range(1,i):\n",
        "                mval = max(mval, (i-j)*j, j*arr[i-j])\n",
        "        arr[i] = mval\n",
        "    return arr[n]\n"
      ]
    },
    {
      "cell_type": "markdown",
      "metadata": {
        "id": "d8c04886-01d5-4f3f-8655-fbad8baec235"
      },
      "source": [
        "## Time complexity\n",
        "The algorithm is mainly composed by a for loop with $i=1,...,n$ and in each iteration we have another for loop with $j = 1,...,i-1$. In every iterarion of the inner loop we make constant time operations so the total running time can be computed as follow: <br>\n",
        "\n",
        "$$T(n) = O(1 + 2 + ... + (n-1)) + O(1) = O\\left(\\frac{n(n-1)}{2}\\right) + O(1) = O(n^2)$$"
      ]
    },
    {
      "cell_type": "markdown",
      "metadata": {
        "id": "38bc3dbd-4ffe-49fc-923c-8deb56b8959b"
      },
      "source": [
        "## 4. Evaluate the running time of your algorithm for the sizes (Ns) in the range of [2, 25], plot the results, and interpret it (if you have implemented two algorithms, please include both in the plot and compare them). ##"
      ]
    },
    {
      "cell_type": "code",
      "execution_count": null,
      "metadata": {
        "id": "0cec1597-e385-4820-8efe-9546b52a8e46"
      },
      "outputs": [],
      "source": [
        "time1 = []\n",
        "time2 = []\n"
      ]
    },
    {
      "cell_type": "code",
      "execution_count": null,
      "metadata": {
        "id": "66ae67d9-b7fb-4e99-b14b-55a141c9c11e"
      },
      "outputs": [],
      "source": [
        "for i in range(2,26):\n",
        "    time_start = time.time()\n",
        "    cut_one(i)\n",
        "    time_end = time.time()\n",
        "    time1.append(time_end -  time_start)\n",
        "    \n",
        "    time_start = time.time()\n",
        "    cut_two(i)\n",
        "    time_end = time.time()\n",
        "    time2.append(time_end - time_start)"
      ]
    },
    {
      "cell_type": "code",
      "execution_count": null,
      "metadata": {
        "id": "1eaa2c27-9d5c-4c49-8e26-559c884153c3",
        "outputId": "8ce1c727-2ddc-4f66-bded-fc422598818d"
      },
      "outputs": [
        {
          "data": {
            "text/plain": [
              "[<matplotlib.lines.Line2D at 0x2112e356860>]"
            ]
          },
          "execution_count": 69,
          "metadata": {},
          "output_type": "execute_result"
        },
        {
          "data": {
            "image/png": "[encoded data removed]",
            "text/plain": [
              "<Figure size 640x480 with 1 Axes>"
            ]
          },
          "metadata": {},
          "output_type": "display_data"
        }
      ],
      "source": [
        "plt.plot(np.arange(2,26), time1)\n",
        "plt.plot(np.arange(2,26), time2, color = 'red')"
      ]
    },
    {
      "cell_type": "markdown",
      "metadata": {
        "id": "d9ce646b-9ad2-44af-b189-7d28205040a1"
      },
      "source": [
        "As can be seen, the first algorithm has an higher running time than the second for bigger values of n and his exponential trend seems to be confirmed. On the other hand, the second solution has a polynomial complexity, but in the range [2,25] of n, for my pc the running time is always 0.0.  "
      ]
    },
    {
      "cell_type": "markdown",
      "metadata": {
        "id": "6683f425-61e7-450f-93e9-439ffb529f3f"
      },
      "source": [
        "## 5. (Optional, mini bonus) Is the algorithm of question 3 optimal? If you belive it, can you prove it? If not, can you find a faster algorithm? In case you found a faster algorithm implement it and explain your algorithm in detail. ##"
      ]
    },
    {
      "cell_type": "code",
      "execution_count": null,
      "metadata": {
        "id": "caf229f6-533a-4d89-8541-0d402f5e882f"
      },
      "outputs": [],
      "source": [
        "def cut_three(n):\n",
        "    if n <= 1:\n",
        "        return 0\n",
        "    elif n == 2:\n",
        "        return 1\n",
        "    elif n == 3:\n",
        "        return 2\n",
        "    prod = 1\n",
        "    while n > 4:\n",
        "        n = n - 3\n",
        "        prod = prod * 3\n",
        "    prod = prod * n\n",
        "    return prod\n"
      ]
    },
    {
      "cell_type": "markdown",
      "metadata": {
        "id": "TLx33Yft-AG_"
      },
      "source": [
        "## Time complexity\n",
        "The algorithm is just a loop over n where n is decreased by 3 at every iteration (n starts from $5$ but it does not affect the asyntotic complexity): <br>\n",
        "\n",
        "$$T(n) = O\\left(\\frac{n}{3}\\right) + O(1) = O(n)$$\n",
        "\n",
        "\n",
        "\n",
        "\n",
        "\n",
        "\n",
        "The idea of the algorithm is based on an heuristic: if we take some examples of solution of the problem for specific numbers we notice somthing: <br>\n",
        "$10 = 3+2+2$ <br>\n",
        "$15 = 3+3+3+3+3$ <br>\n",
        "$20 = 3+3+3+3+3+3+2$ <br>\n",
        "$25 = 3+3+3+3+3+3+3+2+2$ <br>\n",
        "$50 = 3+3+3+3+3+3+3+3+3+3+3+3+3+3+3+3+2$ <br>\n",
        "$70 = 3+3+3+3+3+3+3+3+3+3+3+3+3+3+3+3+3+3+3+3+3+3+2+2$ <br>\n",
        "\n",
        "It seems that the solution is always of this form:\n",
        "- use only $2$ and $3$\n",
        "- use as many 3s as possible and then put the remaining 2 that miss to complete the number\n",
        "\n",
        "A sketch of the proof:\n",
        "The way for optimizing the product of numbers of given sum is to take all the values equal to each other (as much as possible).\n",
        "To see what specific numbers this value must be let's say we split n in k integers (suppose k divides n) so we have:\n",
        "$$ n = \\frac{n}{k}...\\frac{n}{k}$$\n",
        "To optimize this we take the logarithm (the log is an increasing function so it is equivalent):\n",
        "$$f(k) = k\\ln\\left(\\frac{n}{k}\\right)$$\n",
        "Taking the derivative and putting it equal to zero we obtain\n",
        "$$\\frac{n}{k} = e \\approx 2.7$$\n",
        "This means that the possible values are 2 and 3 (remember the assumption that $k$ divides $n$)\n",
        "\n",
        "\n",
        "So what the algorithm does is: put as many 3s as you can, then put the remaining 2s that requires to reach n."
      ]
    }
  ],
  "metadata": {
    "colab": {
      "collapsed_sections": [],
      "provenance": []
    },
    "kernelspec": {
      "display_name": "Python 3 (ipykernel)",
      "language": "python",
      "name": "python3"
    },
    "language_info": {
      "codemirror_mode": {
        "name": "ipython",
        "version": 3
      },
      "file_extension": ".py",
      "mimetype": "text/x-python",
      "name": "python",
      "nbconvert_exporter": "python",
      "pygments_lexer": "ipython3",
      "version": "3.10.7"
    }
  },
  "nbformat": 4,
  "nbformat_minor": 0
}